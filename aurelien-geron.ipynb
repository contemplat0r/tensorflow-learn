{
 "cells": [
  {
   "cell_type": "code",
   "execution_count": 223,
   "metadata": {},
   "outputs": [],
   "source": [
    "from datetime import datetime\n",
    "import time\n",
    "\n",
    "import numpy as np\n",
    "from sklearn.datasets import fetch_california_housing, make_moons\n",
    "from sklearn.preprocessing import StandardScaler\n",
    "from sklearn.model_selection import train_test_split\n",
    "import tensorflow as tf"
   ]
  },
  {
   "cell_type": "code",
   "execution_count": 2,
   "metadata": {},
   "outputs": [],
   "source": [
    "#make_moons?"
   ]
  },
  {
   "cell_type": "code",
   "execution_count": 3,
   "metadata": {},
   "outputs": [],
   "source": [
    "x = tf.Variable(3, name='3')\n",
    "y = tf.Variable(4, name='4')\n",
    "f = x * x * y + y + 2"
   ]
  },
  {
   "cell_type": "code",
   "execution_count": 4,
   "metadata": {},
   "outputs": [
    {
     "data": {
      "text/plain": [
       "<tf.Tensor 'add_1:0' shape=() dtype=int32>"
      ]
     },
     "execution_count": 4,
     "metadata": {},
     "output_type": "execute_result"
    }
   ],
   "source": [
    "f"
   ]
  },
  {
   "cell_type": "code",
   "execution_count": 5,
   "metadata": {},
   "outputs": [
    {
     "name": "stdout",
     "output_type": "stream",
     "text": [
      "42\n"
     ]
    }
   ],
   "source": [
    "sess = tf.Session()\n",
    "sess.run(x.initializer)\n",
    "sess.run(y.initializer)\n",
    "result = sess.run(f)\n",
    "print(result)\n",
    "sess.close()"
   ]
  },
  {
   "cell_type": "code",
   "execution_count": 6,
   "metadata": {},
   "outputs": [
    {
     "name": "stdout",
     "output_type": "stream",
     "text": [
      "42\n"
     ]
    }
   ],
   "source": [
    "with tf.Session() as sess:\n",
    "    x.initializer.run()\n",
    "    y.initializer.run()\n",
    "    result= f.eval()\n",
    "    print(result)"
   ]
  },
  {
   "cell_type": "code",
   "execution_count": 7,
   "metadata": {},
   "outputs": [],
   "source": [
    "init = tf.global_variables_initializer()"
   ]
  },
  {
   "cell_type": "code",
   "execution_count": 8,
   "metadata": {},
   "outputs": [
    {
     "name": "stdout",
     "output_type": "stream",
     "text": [
      "42\n"
     ]
    }
   ],
   "source": [
    "with tf.Session() as sess:\n",
    "    init.run()\n",
    "    result = f.eval()\n",
    "    print(result)"
   ]
  },
  {
   "cell_type": "code",
   "execution_count": 9,
   "metadata": {},
   "outputs": [
    {
     "name": "stdout",
     "output_type": "stream",
     "text": [
      "42\n"
     ]
    }
   ],
   "source": [
    "sess = tf.InteractiveSession()\n",
    "init.run()\n",
    "result = f.eval()\n",
    "print(result)\n",
    "sess.close()"
   ]
  },
  {
   "cell_type": "code",
   "execution_count": 10,
   "metadata": {},
   "outputs": [
    {
     "data": {
      "text/plain": [
       "True"
      ]
     },
     "execution_count": 10,
     "metadata": {},
     "output_type": "execute_result"
    }
   ],
   "source": [
    "x1 = tf.Variable(1)\n",
    "x1.graph is tf.get_default_graph()"
   ]
  },
  {
   "cell_type": "code",
   "execution_count": 11,
   "metadata": {},
   "outputs": [],
   "source": [
    "graph = tf.Graph()\n",
    "with graph.as_default():\n",
    "    x2 = tf.Variable(2)\n",
    "    x2.graph is graph\n",
    "    x2.graph is tf.get_default_graph()"
   ]
  },
  {
   "cell_type": "code",
   "execution_count": 12,
   "metadata": {},
   "outputs": [
    {
     "data": {
      "text/plain": [
       "True"
      ]
     },
     "execution_count": 12,
     "metadata": {},
     "output_type": "execute_result"
    }
   ],
   "source": [
    "x2.graph is graph"
   ]
  },
  {
   "cell_type": "code",
   "execution_count": 13,
   "metadata": {},
   "outputs": [
    {
     "data": {
      "text/plain": [
       "False"
      ]
     },
     "execution_count": 13,
     "metadata": {},
     "output_type": "execute_result"
    }
   ],
   "source": [
    "x2.graph is tf.get_default_graph()"
   ]
  },
  {
   "cell_type": "code",
   "execution_count": 14,
   "metadata": {},
   "outputs": [],
   "source": [
    "tf.reset_default_graph()"
   ]
  },
  {
   "cell_type": "code",
   "execution_count": 15,
   "metadata": {},
   "outputs": [
    {
     "name": "stdout",
     "output_type": "stream",
     "text": [
      "5\n",
      "10\n"
     ]
    }
   ],
   "source": [
    "w = tf.constant(3)\n",
    "x = w + 2\n",
    "y = x + 5\n",
    "z = x * 3\n",
    "\n",
    "with tf.Session() as sess:\n",
    "    print(x.eval())\n",
    "    print(y.eval())"
   ]
  },
  {
   "cell_type": "code",
   "execution_count": 16,
   "metadata": {},
   "outputs": [
    {
     "name": "stdout",
     "output_type": "stream",
     "text": [
      "10 15\n"
     ]
    }
   ],
   "source": [
    "with tf.Session() as sess:\n",
    "    y_val, z_val = sess.run([y, z])\n",
    "    print(y_val, z_val)"
   ]
  },
  {
   "cell_type": "code",
   "execution_count": 17,
   "metadata": {},
   "outputs": [
    {
     "name": "stdout",
     "output_type": "stream",
     "text": [
      "[[6. 7. 8.]]\n",
      "[[ 9. 10. 11.]\n",
      " [10. 11. 12.]]\n"
     ]
    }
   ],
   "source": [
    "A = tf.placeholder(tf.float32, shape=(None, 3))\n",
    "B = A + 5\n",
    "with tf.Session() as sess:\n",
    "    B_eval_1 = B.eval(feed_dict={A: [[1, 2, 3]]})\n",
    "    B_eval_2 = B.eval(feed_dict={A: [[4, 5, 6], [5, 6, 7]]})\n",
    "    print(B_eval_1)\n",
    "    print(B_eval_2)"
   ]
  },
  {
   "cell_type": "code",
   "execution_count": null,
   "metadata": {},
   "outputs": [],
   "source": []
  },
  {
   "cell_type": "code",
   "execution_count": 18,
   "metadata": {},
   "outputs": [
    {
     "name": "stdout",
     "output_type": "stream",
     "text": [
      "[[-3.7465141e+01]\n",
      " [ 4.3573415e-01]\n",
      " [ 9.3382923e-03]\n",
      " [-1.0662201e-01]\n",
      " [ 6.4410698e-01]\n",
      " [-4.2513184e-06]\n",
      " [-3.7732250e-03]\n",
      " [-4.2664889e-01]\n",
      " [-4.4051403e-01]]\n"
     ]
    }
   ],
   "source": [
    "housing = fetch_california_housing()\n",
    "m, n = housing.data.shape\n",
    "housing_data_plus_bias = np.c_[np.ones((m, 1)), housing.data]\n",
    "X = tf.constant(housing_data_plus_bias, dtype=tf.float32, name='X')\n",
    "y = tf.constant(housing.target.reshape(-1, 1), dtype=tf.float32, name='y')\n",
    "XT = tf.transpose(X)\n",
    "theta = tf.matmul(tf.matmul(tf.matrix_inverse(tf.matmul(XT, X)), XT), y)\n",
    "with tf.Session() as sess:\n",
    "    theta_value = theta.eval()\n",
    "    print(theta_value)"
   ]
  },
  {
   "cell_type": "code",
   "execution_count": 19,
   "metadata": {},
   "outputs": [
    {
     "name": "stdout",
     "output_type": "stream",
     "text": [
      "20640 8\n"
     ]
    }
   ],
   "source": [
    "print(m, n)"
   ]
  },
  {
   "cell_type": "code",
   "execution_count": 20,
   "metadata": {},
   "outputs": [
    {
     "data": {
      "text/plain": [
       "(20640, 9)"
      ]
     },
     "execution_count": 20,
     "metadata": {},
     "output_type": "execute_result"
    }
   ],
   "source": [
    "type(housing_data_plus_bias)\n",
    "housing_data_plus_bias.shape"
   ]
  },
  {
   "cell_type": "code",
   "execution_count": 21,
   "metadata": {},
   "outputs": [
    {
     "name": "stdout",
     "output_type": "stream",
     "text": [
      "20640 8\n",
      "<class 'int'> <class 'int'>\n"
     ]
    }
   ],
   "source": [
    "print(m, n)\n",
    "print(type(m), type(n))"
   ]
  },
  {
   "cell_type": "code",
   "execution_count": 22,
   "metadata": {},
   "outputs": [],
   "source": [
    "now = datetime.utcnow().strftime('%Y%m%d%H%M%S')\n",
    "root_logdir = 'tf_logs'\n",
    "logdir = '{}/-run-{}/'.format(root_logdir, now)"
   ]
  },
  {
   "cell_type": "code",
   "execution_count": 23,
   "metadata": {},
   "outputs": [],
   "source": [
    "scaler = StandardScaler()\n",
    "scaled_housing_data_plus_bias = scaler.fit_transform(housing_data_plus_bias)"
   ]
  },
  {
   "cell_type": "code",
   "execution_count": 24,
   "metadata": {},
   "outputs": [],
   "source": [
    "target = housing.target.reshape(-1, 1)"
   ]
  },
  {
   "cell_type": "code",
   "execution_count": 25,
   "metadata": {},
   "outputs": [],
   "source": [
    "def fetch_batch(epoch, batch_index, batch_size):\n",
    "    X_batch = scaled_housing_data_plus_bias[batch_index * batch_size:(batch_index + 1) * batch_size, :]\n",
    "    print(\"fetch_batch, X_batch.shape:\", X_batch.shape)\n",
    "    y_batch = target[batch_index * batch_size:(batch_index + 1) * batch_size]\n",
    "    return X_batch, y_batch"
   ]
  },
  {
   "cell_type": "code",
   "execution_count": 26,
   "metadata": {},
   "outputs": [],
   "source": [
    "n_epoch = 1000\n",
    "learning_rate = 0.01\n",
    "\n",
    "batch_size = 100\n",
    "n_batches = int(np.ceil(m / batch_size))"
   ]
  },
  {
   "cell_type": "code",
   "execution_count": 27,
   "metadata": {},
   "outputs": [
    {
     "data": {
      "text/plain": [
       "207"
      ]
     },
     "execution_count": 27,
     "metadata": {},
     "output_type": "execute_result"
    }
   ],
   "source": [
    "n_batches"
   ]
  },
  {
   "cell_type": "code",
   "execution_count": 28,
   "metadata": {},
   "outputs": [],
   "source": [
    "X = tf.placeholder(tf.float32, shape=(None, n + 1), name='X')"
   ]
  },
  {
   "cell_type": "code",
   "execution_count": null,
   "metadata": {},
   "outputs": [],
   "source": [
    "#X = tf.constant(scaled_housing_data_plus_bias, dtype=tf.float32, name='X')\n",
    "#y = tf.constant(housing.target.reshape(-1, 1), dtype=tf.float32, name='y')\n",
    "\n",
    "X = tf.placeholder(tf.float32, shape=(None, n + 1), name='X')\n",
    "y = tf.placeholder(tf.float32, shape=(None, 1), name='y')\n",
    "\n",
    "theta = tf.Variable(tf.random_uniform([n + 1, 1], -1, 1), name='theta')\n",
    "y_pred = tf.matmul(X, theta, name='predictions')\n",
    "error = y_pred - y\n",
    "mse = tf.reduce_mean(tf.square(error), name='mse')\n",
    "\n",
    "#gradients = 2/m * tf.matmul(tf.transpose(X), error)\n",
    "\n",
    "gradients = tf.gradients(mse, [theta])[0]\n",
    "training_op = tf.assign(theta, theta - learning_rate * gradients)\n",
    "###optimizer = tf.train.GradientDescentOptimizer(learning_rate=learning_rate)\n",
    "#optimizer = tf.train.MomentumOptimizer(learning_rate=learning_rate, momentum=0.9)\n",
    "#training_op = optimizer.minimize(mse)\n",
    "init = tf.global_variables_initializer()\n",
    "\n",
    "saver = tf.train.Saver()\n",
    "\n",
    "with tf.Session() as sess:\n",
    "    sess.run(init)\n",
    "    for epoch in range(n_epoch):\n",
    "        if epoch % 100 == 0:\n",
    "            saver_path = saver.save(sess, 'saved-models/exp-model.ckpt')\n",
    "            print(\"epoch\", epoch)\n",
    "            #print(\"epoch\", epoch, \"MSE = \", mse.eval())\n",
    "        for batch_index in range(n_batches):\n",
    "            X_batch, y_batch = fetch_batch(epoch, batch_index, batch_size)\n",
    "            sess.run(training_op, feed_dict={X: X_batch, y: y_batch})\n",
    "    best_theta = theta.eval()\n",
    "    final_saver_path = saver.save(sess, 'saved-models/exp-model-final.ckpt') \n",
    "    print(best_theta)"
   ]
  },
  {
   "cell_type": "code",
   "execution_count": null,
   "metadata": {},
   "outputs": [],
   "source": [
    "mse_summary = tf.summary.scalar('MSE', mse)\n",
    "file_writter = tf.summary.FileWriter(logdir, tf.get_default_graph())"
   ]
  },
  {
   "cell_type": "code",
   "execution_count": null,
   "metadata": {},
   "outputs": [],
   "source": [
    "#!mkdir saved-models"
   ]
  },
  {
   "cell_type": "code",
   "execution_count": null,
   "metadata": {},
   "outputs": [],
   "source": [
    "!ls saved-models/"
   ]
  },
  {
   "cell_type": "code",
   "execution_count": null,
   "metadata": {},
   "outputs": [],
   "source": [
    "z = tf.constant([1.0, 2.0, 3.0, 4.0], name='z')"
   ]
  },
  {
   "cell_type": "code",
   "execution_count": null,
   "metadata": {},
   "outputs": [],
   "source": [
    "op = tf.math.exp(z)"
   ]
  },
  {
   "cell_type": "code",
   "execution_count": null,
   "metadata": {},
   "outputs": [],
   "source": [
    "op"
   ]
  },
  {
   "cell_type": "code",
   "execution_count": null,
   "metadata": {},
   "outputs": [],
   "source": [
    "with tf.Session() as sess:\n",
    "    print(op.eval())"
   ]
  },
  {
   "cell_type": "code",
   "execution_count": null,
   "metadata": {},
   "outputs": [],
   "source": [
    "scalar_op = tf.math.exp(2.0)"
   ]
  },
  {
   "cell_type": "code",
   "execution_count": null,
   "metadata": {},
   "outputs": [],
   "source": [
    "with tf.Session() as sess:\n",
    "    print(scalar_op.eval())"
   ]
  },
  {
   "cell_type": "code",
   "execution_count": 96,
   "metadata": {},
   "outputs": [],
   "source": [
    "X_moons, y_moons = make_moons(10000)"
   ]
  },
  {
   "cell_type": "code",
   "execution_count": 108,
   "metadata": {},
   "outputs": [
    {
     "name": "stdout",
     "output_type": "stream",
     "text": [
      "(10000, 2)\n",
      "(10000,)\n"
     ]
    }
   ],
   "source": [
    "print(X_moons.shape)\n",
    "print(y_moons.shape)"
   ]
  },
  {
   "cell_type": "code",
   "execution_count": 116,
   "metadata": {},
   "outputs": [],
   "source": [
    "features_num = X_moons.shape[1]\n",
    "rows_num = X_moons.shape[0]"
   ]
  },
  {
   "cell_type": "code",
   "execution_count": 98,
   "metadata": {},
   "outputs": [],
   "source": [
    "#X_moons_plus_bias = np.c_[np.ones((m, 1)), X_moons]"
   ]
  },
  {
   "cell_type": "code",
   "execution_count": 230,
   "metadata": {},
   "outputs": [],
   "source": [
    "#X_moons_plus_bias.shape\n",
    "#train_test_split?"
   ]
  },
  {
   "cell_type": "code",
   "execution_count": 110,
   "metadata": {},
   "outputs": [],
   "source": [
    "#scaler = StandardScaler()\n",
    "#X_moons_plus_bias_scaled = scaler.fit_transform(X_moons_plus_bias)\n",
    "X_moons_scaled = scaler.fit_transform(X_moons)"
   ]
  },
  {
   "cell_type": "code",
   "execution_count": 231,
   "metadata": {},
   "outputs": [],
   "source": [
    "X_moons_scaled_train, X_moons_scaled_test, y_moons_train, y_moons_test= train_test_split(\n",
    "    X_moons_scaled,\n",
    "    y_moons,\n",
    "    test_size=0.2,\n",
    "    random_state=42    \n",
    ")"
   ]
  },
  {
   "cell_type": "code",
   "execution_count": 232,
   "metadata": {},
   "outputs": [],
   "source": [
    "X_moons_scaled_train_tf = tf.convert_to_tensor(X_moons_scaled_train, dtype=tf.float32)\n",
    "X_moons_scaled_test_tf = tf.convert_to_tensor(X_moons_scaled_test, dtype=tf.float32)\n",
    "y_moons_train_tf = tf.convert_to_tensor(y_moons_train, dtype=tf.float32)\n",
    "y_moons_train_tf = tf.reshape(y_moons_train_tf, (y_moons_train_tf.shape[0], 1))\n",
    "y_moons_test_tf = tf.convert_to_tensor(y_moons_test, dtype=tf.float32)\n",
    "y_moons_test_tf = tf.reshape(y_moons_test_tf, (y_moons_test_tf.shape[0], 1))"
   ]
  },
  {
   "cell_type": "code",
   "execution_count": 114,
   "metadata": {},
   "outputs": [],
   "source": [
    "def init_weights(features_num):\n",
    "    #return np.random.uniform(size=features_num + 1)\n",
    "    return tf.Variable(tf.random_uniform([features_num + 1, 1], -1, 1), name='weights')"
   ]
  },
  {
   "cell_type": "code",
   "execution_count": 121,
   "metadata": {},
   "outputs": [],
   "source": [
    "weights = init_weights(features_num)"
   ]
  },
  {
   "cell_type": "code",
   "execution_count": 143,
   "metadata": {},
   "outputs": [
    {
     "data": {
      "text/plain": [
       "TensorShape([Dimension(3), Dimension(1)])"
      ]
     },
     "execution_count": 143,
     "metadata": {},
     "output_type": "execute_result"
    }
   ],
   "source": [
    "weights.shape"
   ]
  },
  {
   "cell_type": "code",
   "execution_count": 127,
   "metadata": {},
   "outputs": [
    {
     "name": "stdout",
     "output_type": "stream",
     "text": [
      "<dtype: 'float32_ref'>\n",
      "<class 'tensorflow.python.ops.variables.Variable'>\n",
      "float64\n",
      "<class 'numpy.ndarray'>\n"
     ]
    }
   ],
   "source": [
    "print(weights.dtype)\n",
    "print(type(weights))\n",
    "print(X_moons_scaled.dtype)\n",
    "print(type(X_moons))"
   ]
  },
  {
   "cell_type": "code",
   "execution_count": 130,
   "metadata": {},
   "outputs": [
    {
     "data": {
      "text/plain": [
       "TensorShape([Dimension(10000), Dimension(2)])"
      ]
     },
     "execution_count": 130,
     "metadata": {},
     "output_type": "execute_result"
    }
   ],
   "source": [
    "X_moons_scaled_tf.shape"
   ]
  },
  {
   "cell_type": "code",
   "execution_count": 131,
   "metadata": {},
   "outputs": [
    {
     "data": {
      "text/plain": [
       "TensorShape([Dimension(3), Dimension(1)])"
      ]
     },
     "execution_count": 131,
     "metadata": {},
     "output_type": "execute_result"
    }
   ],
   "source": [
    "weights.shape"
   ]
  },
  {
   "cell_type": "code",
   "execution_count": 132,
   "metadata": {},
   "outputs": [],
   "source": [
    "def sigmoid(x):\n",
    "    return 1.0 / (1.0 + tf.math.exp(-x))"
   ]
  },
  {
   "cell_type": "code",
   "execution_count": 122,
   "metadata": {},
   "outputs": [],
   "source": [
    "def linear_calculator(x, weights):\n",
    "    return tf.tensordot(x, weights[1:], axes=1) + weights[0]"
   ]
  },
  {
   "cell_type": "code",
   "execution_count": 138,
   "metadata": {},
   "outputs": [],
   "source": [
    "def calculate_errors(y, y_pred):\n",
    "    return y - y_pred"
   ]
  },
  {
   "cell_type": "code",
   "execution_count": 190,
   "metadata": {},
   "outputs": [],
   "source": [
    "#linear_calculator(X_moons_scaled_tf, weights)"
   ]
  },
  {
   "cell_type": "code",
   "execution_count": 187,
   "metadata": {},
   "outputs": [],
   "source": [
    "def calculate_gradient(x, errors):\n",
    "    #return np.concatenate([np.array([errors.sum()]), np.dot(x.T, errors)])\n",
    "    #return tf.stack([tf.reshape(tf.reduce_sum(errors), (1, 1)), tf.tensordot(tf.transpose(x), errors, axes=1)], axis=0, name='gradient')\n",
    "    return tf.concat([tf.reshape(tf.reduce_sum(errors), (1, 1)), tf.tensordot(tf.transpose(x), errors, axes=1)], axis=0, name='gradient')"
   ]
  },
  {
   "cell_type": "code",
   "execution_count": 102,
   "metadata": {},
   "outputs": [],
   "source": [
    "def gradient(X, y, y_pred):\n",
    "    return tf.transpose(tf.tensordot(X, y_pred - y, axes=1))"
   ]
  },
  {
   "cell_type": "code",
   "execution_count": 228,
   "metadata": {},
   "outputs": [],
   "source": [
    "def update_weights(learning_rate, weights, gradient):\n",
    "    return weights + learning_rate * gradient"
   ]
  },
  {
   "cell_type": "code",
   "execution_count": 227,
   "metadata": {},
   "outputs": [],
   "source": [
    "def predict(x, weights):\n",
    "    return tf.where(linear_calculator(x, weights) > 0.0, 1, 0, 'prediction')"
   ]
  },
  {
   "cell_type": "code",
   "execution_count": 145,
   "metadata": {},
   "outputs": [
    {
     "data": {
      "text/plain": [
       "TensorShape([Dimension(10000), Dimension(1)])"
      ]
     },
     "execution_count": 145,
     "metadata": {},
     "output_type": "execute_result"
    }
   ],
   "source": [
    "y_pred = sigmoid(linear_calculator(X_moons_scaled_tf, weights))\n",
    "y_pred.shape"
   ]
  },
  {
   "cell_type": "code",
   "execution_count": 147,
   "metadata": {},
   "outputs": [],
   "source": [
    "errors = calculate_errors(y_moons_tf, y_pred)"
   ]
  },
  {
   "cell_type": "code",
   "execution_count": 148,
   "metadata": {},
   "outputs": [
    {
     "data": {
      "text/plain": [
       "TensorShape([Dimension(10000), Dimension(1)])"
      ]
     },
     "execution_count": 148,
     "metadata": {},
     "output_type": "execute_result"
    }
   ],
   "source": [
    "errors.shape"
   ]
  },
  {
   "cell_type": "code",
   "execution_count": 191,
   "metadata": {},
   "outputs": [],
   "source": [
    "#tf.tensordot(tf.transpose(X_moons_scaled_tf), errors, axes=1)"
   ]
  },
  {
   "cell_type": "code",
   "execution_count": 192,
   "metadata": {},
   "outputs": [],
   "source": [
    "#tf.tensordot(tf.transpose(X_moons_scaled_tf), errors, axes=0)"
   ]
  },
  {
   "cell_type": "code",
   "execution_count": 193,
   "metadata": {},
   "outputs": [],
   "source": [
    "#err_sum=tf.reduce_sum(errors)"
   ]
  },
  {
   "cell_type": "code",
   "execution_count": 194,
   "metadata": {},
   "outputs": [],
   "source": [
    "#tf.reshape(err_sum, (1, 1))"
   ]
  },
  {
   "cell_type": "code",
   "execution_count": 183,
   "metadata": {},
   "outputs": [],
   "source": [
    "#err_sum_const = tf.constant([err_sum])"
   ]
  },
  {
   "cell_type": "code",
   "execution_count": 195,
   "metadata": {},
   "outputs": [],
   "source": [
    "#tf.stack?"
   ]
  },
  {
   "cell_type": "code",
   "execution_count": 196,
   "metadata": {},
   "outputs": [],
   "source": [
    "#gradient = calculate_gradient(X_moons_scaled_tf, errors)"
   ]
  },
  {
   "cell_type": "code",
   "execution_count": 95,
   "metadata": {},
   "outputs": [],
   "source": [
    "#def gradient(function, x, h):\n",
    "#    return (function(x + h) - function(x)) / h"
   ]
  },
  {
   "cell_type": "code",
   "execution_count": 214,
   "metadata": {},
   "outputs": [],
   "source": [
    "#gradient\n",
    "np.reshape?"
   ]
  },
  {
   "cell_type": "code",
   "execution_count": 218,
   "metadata": {},
   "outputs": [],
   "source": [
    "def fetch_batch(epoch, batch_index, batch_size):\n",
    "    X_batch = X_moons_scaled_tf[batch_index * batch_size:(batch_index + 1) * batch_size, :]\n",
    "    #print(\"\\nfetch_batch, X_batch.shape:\", X_batch.shape)\n",
    "    #print(\"\\nfetch_batch, X_batch.dtype:\", X_batch.dtype)\n",
    "    y_batch = y_moons_tf[batch_index * batch_size:(batch_index + 1) * batch_size]\n",
    "    return X_batch.eval(), np.reshape(y_batch.eval(), newshape=(batch_size, 1))"
   ]
  },
  {
   "cell_type": "code",
   "execution_count": 221,
   "metadata": {},
   "outputs": [],
   "source": [
    "n_epoch = 10\n",
    "learning_rate = 0.01\n",
    "\n",
    "batch_size = 100\n",
    "n_batches = int(np.ceil(rows_num / batch_size))"
   ]
  },
  {
   "cell_type": "code",
   "execution_count": 198,
   "metadata": {},
   "outputs": [],
   "source": [
    "# X = tf.placeholder(tf.float32, shape=(None, n + 1), name='X')\n",
    "# ##X = tf.placeholder(tf.float32, shape=(None, n), name='X')\n",
    "# y = tf.placeholder(tf.float32, shape=(None,), name='y')\n",
    "\n",
    "# #X = tf.constant([[.2, .7, 0.15], [.4, .4, .5], [.11, .3, .6]], name='X')\n",
    "# #y = tf.constant([.2, .31, .14], name='y')\n",
    "\n",
    "# theta = tf.Variable(tf.random_uniform([n + 1, 1], -1, 1), name='theta')\n",
    "# print(\"\\ntheta.get_shape():\", theta.get_shape())\n",
    "# print(\"tf.shape(theta):\", tf.shape(theta))\n",
    "\n",
    "# y_pred = forward(X, theta)\n",
    "# print(\"\\nafter call forward\")\n",
    "# print(\"type(y_pred.get_shape()):\", type(y_pred.get_shape()))\n",
    "# print(\"y_pred.get_shape():\", y_pred.get_shape())\n",
    "# print(\"type(tf.shape(y_pred)):\", type(tf.shape(y_pred)))\n",
    "# print(\"tf.shape(y_pred):\", tf.shape(y_pred))\n",
    "# #error = y_pred - y\n",
    "\n",
    "# theta_grad = gradient(X, y, y_pred)\n",
    "# print(\"\\ntheta_grad.get_shape():\", theta_grad.get_shape())\n",
    "# print(\"tf.shape(theta_grad):\", tf.shape(theta_grad))\n",
    "# training_op = tf.assign(theta, theta - learning_rate * theta_grad)\n",
    "\n",
    "# init = tf.global_variables_initializer()\n",
    "\n",
    "# saver = tf.train.Saver()\n",
    "\n",
    "# with tf.Session() as sess:\n",
    "#     sess.run(init)\n",
    "#     for epoch in range(n_epoch):\n",
    "#         if epoch % 100 == 0:\n",
    "#             #saver_path = saver.save(sess, 'saved-models/exp-model.ckpt')\n",
    "#             print(\"epoch\", epoch)\n",
    "#             #print(\"epoch\", epoch, \"MSE = \", mse.eval())\n",
    "#         for batch_index in range(n_batches):\n",
    "#             X_batch, y_batch = fetch_batch(epoch, batch_index, batch_size)\n",
    "#             #sess.run(training_op, feed_dict={X: X_batch, y: y_batch})\n",
    "#     #best_theta = theta.eval()\n",
    "#     #final_saver_path = saver.save(sess, 'saved-models/exp-model-final.ckpt') \n",
    "#     #print(best_theta)"
   ]
  },
  {
   "cell_type": "code",
   "execution_count": 199,
   "metadata": {},
   "outputs": [],
   "source": [
    "weights = init_weights(features_num)"
   ]
  },
  {
   "cell_type": "code",
   "execution_count": 224,
   "metadata": {},
   "outputs": [
    {
     "name": "stdout",
     "output_type": "stream",
     "text": [
      "epoch 0\n",
      "[[-5.8779102e+01]\n",
      " [-6.5492695e+04]\n",
      " [ 7.8963836e+04]]\n",
      "total time: 88.4780856649081\n"
     ]
    }
   ],
   "source": [
    "X = tf.placeholder(tf.float32, shape=(None, features_num), name='X')\n",
    "\n",
    "y = tf.placeholder(tf.float32, shape=(None, 1), name='y')\n",
    "\n",
    "y_pred = sigmoid(linear_calculator(X_moons_scaled_tf, weights))\n",
    "\n",
    "errors = calculate_errors(y_moons_tf, y_pred)\n",
    "\n",
    "weights_gradient = calculate_gradient(X_moons_scaled_tf, errors)\n",
    "\n",
    "training_op = tf.assign(weights, weights - learning_rate * weights_gradient)\n",
    "\n",
    "init = tf.global_variables_initializer()\n",
    "\n",
    "saver = tf.train.Saver()\n",
    "\n",
    "start_time = time.time()\n",
    "\n",
    "with tf.device('/gpu:0'):\n",
    "    with tf.Session() as sess:\n",
    "        sess.run(init)\n",
    "        for epoch in range(n_epoch):\n",
    "            if epoch % 100 == 0:\n",
    "                #saver_path = saver.save(sess, 'saved-models/exp-model.ckpt')\n",
    "                print(\"epoch\", epoch)\n",
    "                #print(\"epoch\", epoch, \"MSE = \", mse.eval())\n",
    "            for batch_index in range(n_batches):\n",
    "                X_batch, y_batch = fetch_batch(epoch, batch_index, batch_size)\n",
    "                sess.run(training_op, feed_dict={X: X_batch, y: y_batch})\n",
    "        best_weights = weights.eval()\n",
    "        final_saver_path = saver.save(sess, 'saved-models/exp-model-final-{}.ckpt'.format(time.time())) \n",
    "        print(best_weights)\n",
    "print(\"total time: {}\".format((time.time() - start_time) / 60))"
   ]
  },
  {
   "cell_type": "code",
   "execution_count": 225,
   "metadata": {},
   "outputs": [
    {
     "data": {
      "text/plain": [
       "<tf.Variable 'weights_2:0' shape=(3, 1) dtype=float32_ref>"
      ]
     },
     "execution_count": 225,
     "metadata": {},
     "output_type": "execute_result"
    }
   ],
   "source": [
    "weights"
   ]
  },
  {
   "cell_type": "code",
   "execution_count": 226,
   "metadata": {},
   "outputs": [
    {
     "data": {
      "text/plain": [
       "array([[-5.8779102e+01],\n",
       "       [-6.5492695e+04],\n",
       "       [ 7.8963836e+04]], dtype=float32)"
      ]
     },
     "execution_count": 226,
     "metadata": {},
     "output_type": "execute_result"
    }
   ],
   "source": [
    "best_weights"
   ]
  },
  {
   "cell_type": "code",
   "execution_count": null,
   "metadata": {},
   "outputs": [],
   "source": [
    "##gradients = tf.gradients(mse, [theta])[0]\n",
    "training_op = tf.assign(theta, theta - learning_rate * gradients)\n",
    "###optimizer = tf.train.GradientDescentOptimizer(learning_rate=learning_rate)\n",
    "#optimizer = tf.train.MomentumOptimizer(learning_rate=learning_rate, momentum=0.9)\n",
    "#training_op = optimizer.minimize(mse)\n",
    "\n",
    "##X = tf.placeholder(tf.float32, shape=(None, n), name='X')\n",
    "##y = tf.placeholder(tf.float32, shape=(None,), name='y')\n",
    "\n",
    "#X = tf.constant([[.2, .7, 0.15], [.4, .4, .5], [.11, .3, .6]], name='X')\n",
    "#y = tf.constant([.2, .31, .14], name='y')\n",
    "\n",
    "theta = tf.Variable(tf.random_uniform([n + 1, 1], -1, 1), name='theta')\n",
    "print(\"\\ntheta.get_shape():\", theta.get_shape())\n",
    "print(\"tf.shape(theta):\", tf.shape(theta))\n",
    "\n",
    "y_pred = forward(X, theta)\n",
    "print(\"\\nafter call forward\")\n",
    "print(\"type(y_pred.get_shape()):\", type(y_pred.get_shape()))\n",
    "print(\"y_pred.get_shape():\", y_pred.get_shape())\n",
    "print(\"type(tf.shape(y_pred)):\", type(tf.shape(y_pred)))\n",
    "print(\"tf.shape(y_pred):\", tf.shape(y_pred))\n",
    "#error = y_pred - y\n",
    "\n",
    "theta_grad = gradient(X, y, y_pred)\n",
    "print(\"\\ntheta_grad.get_shape():\", theta_grad.get_shape())\n",
    "print(\"tf.shape(theta_grad):\", tf.shape(theta_grad))\n",
    "#training_op = tf.assign(theta, theta - learning_rate * theta_grad)\n",
    "\n",
    "init = tf.global_variables_initializer()\n",
    "\n",
    "saver = tf.train.Saver()\n",
    "\n",
    "with tf.Session() as sess:\n",
    "    sess.run(init)\n",
    "    for epoch in range(n_epoch):\n",
    "        if epoch % 100 == 0:\n",
    "            #saver_path = saver.save(sess, 'saved-models/exp-model.ckpt')\n",
    "            print(\"epoch\", epoch)\n",
    "            #print(\"epoch\", epoch, \"MSE = \", mse.eval())\n",
    "        for batch_index in range(n_batches):\n",
    "            X_batch, y_batch = fetch_batch(epoch, batch_index, batch_size)\n",
    "            #sess.run(training_op, feed_dict={X: X_batch, y: y_batch})\n",
    "    #best_theta = theta.eval()\n",
    "    #final_saver_path = saver.save(sess, 'saved-models/exp-model-final.ckpt') \n",
    "    #print(best_theta)"
   ]
  },
  {
   "cell_type": "code",
   "execution_count": null,
   "metadata": {},
   "outputs": [],
   "source": [
    "!ls saved-models/"
   ]
  },
  {
   "cell_type": "code",
   "execution_count": null,
   "metadata": {},
   "outputs": [],
   "source": [
    "saver = tf.train.import_meta_graph('saved-models/exp-model-final.ckpt.meta')"
   ]
  },
  {
   "cell_type": "code",
   "execution_count": null,
   "metadata": {},
   "outputs": [],
   "source": [
    "with tf.Session() as sess:\n",
    "    saver.restore(sess, 'saved-models/exp-model-final.ckpt.meta')"
   ]
  },
  {
   "cell_type": "code",
   "execution_count": 31,
   "metadata": {},
   "outputs": [],
   "source": [
    "def relu(X):\n",
    "    w_shape = (int(X.get_shape()[1]), 1)\n",
    "    w = tf.Variable(tf.random_uniform(w_shape), name='weigths')\n",
    "    b = tf.Variable(0.0, name='bias')\n",
    "    z = tf.add(tf.matmul(X, w), b, name='z')\n",
    "    return tf.maximum(z, 0., name='relu')"
   ]
  },
  {
   "cell_type": "code",
   "execution_count": 32,
   "metadata": {},
   "outputs": [],
   "source": [
    "n_features = 3\n",
    "X = tf.placeholder(tf.float32, shape=(None, n_features), name='X')\n",
    "relus = [relu(X) for _ in range(5)]\n",
    "output = tf.add_n(relus, name='output')"
   ]
  },
  {
   "cell_type": "code",
   "execution_count": 33,
   "metadata": {},
   "outputs": [
    {
     "data": {
      "text/plain": [
       "<tf.Tensor 'output:0' shape=(?, 1) dtype=float32>"
      ]
     },
     "execution_count": 33,
     "metadata": {},
     "output_type": "execute_result"
    }
   ],
   "source": [
    "output"
   ]
  },
  {
   "cell_type": "code",
   "execution_count": 37,
   "metadata": {},
   "outputs": [],
   "source": [
    "# from sklearn.datasets import fetch_mldata\n",
    "# mnist = fetch_mldata('MNIST original')\n",
    "# mnist\n",
    "from sklearn.datasets import load_digits"
   ]
  },
  {
   "cell_type": "code",
   "execution_count": 38,
   "metadata": {},
   "outputs": [],
   "source": [
    "digits = load_digits()"
   ]
  },
  {
   "cell_type": "code",
   "execution_count": 39,
   "metadata": {},
   "outputs": [
    {
     "data": {
      "text/plain": [
       "sklearn.utils.Bunch"
      ]
     },
     "execution_count": 39,
     "metadata": {},
     "output_type": "execute_result"
    }
   ],
   "source": [
    "type(digits)"
   ]
  },
  {
   "cell_type": "code",
   "execution_count": 40,
   "metadata": {},
   "outputs": [],
   "source": [
    "#images_and_labels = list(zip(digits.images, digits.target))"
   ]
  },
  {
   "cell_type": "code",
   "execution_count": 44,
   "metadata": {},
   "outputs": [],
   "source": [
    "images = digits.images\n",
    "targets = digits.target"
   ]
  },
  {
   "cell_type": "code",
   "execution_count": 57,
   "metadata": {},
   "outputs": [],
   "source": [
    "reshaped_images = np.reshape(images, newshape=(images.shape[0], images.shape[1] * images.shape[2]))"
   ]
  },
  {
   "cell_type": "code",
   "execution_count": 58,
   "metadata": {},
   "outputs": [
    {
     "data": {
      "text/plain": [
       "(1797, 64)"
      ]
     },
     "execution_count": 58,
     "metadata": {},
     "output_type": "execute_result"
    }
   ],
   "source": [
    "reshaped_images.shape"
   ]
  },
  {
   "cell_type": "code",
   "execution_count": 59,
   "metadata": {},
   "outputs": [],
   "source": [
    "scaled_reshaped_images = scaler.fit_transform(reshaped_images)"
   ]
  },
  {
   "cell_type": "code",
   "execution_count": 61,
   "metadata": {},
   "outputs": [],
   "source": [
    "X_train, X_test, y_train, y_test = train_test_split(\n",
    "    scaled_reshaped_images,\n",
    "    targets,\n",
    "    test_size=0.25,\n",
    "    random_state=42\n",
    ")"
   ]
  },
  {
   "cell_type": "code",
   "execution_count": 62,
   "metadata": {},
   "outputs": [
    {
     "name": "stdout",
     "output_type": "stream",
     "text": [
      "WARNING:tensorflow:From <ipython-input-62-ef81dbbe0887>:1: infer_real_valued_columns_from_input (from tensorflow.contrib.learn.python.learn.estimators.estimator) is deprecated and will be removed in a future version.\n",
      "Instructions for updating:\n",
      "Please specify feature columns explicitly.\n",
      "WARNING:tensorflow:From /home/uldo/miniconda3/envs/DS-New/lib/python3.6/site-packages/tensorflow/contrib/learn/python/learn/estimators/estimator.py:142: setup_train_data_feeder (from tensorflow.contrib.learn.python.learn.learn_io.data_feeder) is deprecated and will be removed in a future version.\n",
      "Instructions for updating:\n",
      "Please use tensorflow/transform or tf.data.\n",
      "WARNING:tensorflow:From /home/uldo/miniconda3/envs/DS-New/lib/python3.6/site-packages/tensorflow/contrib/learn/python/learn/learn_io/data_feeder.py:96: extract_dask_data (from tensorflow.contrib.learn.python.learn.learn_io.dask_io) is deprecated and will be removed in a future version.\n",
      "Instructions for updating:\n",
      "Please feed input to tf.data to support dask.\n",
      "WARNING:tensorflow:From /home/uldo/miniconda3/envs/DS-New/lib/python3.6/site-packages/tensorflow/contrib/learn/python/learn/learn_io/data_feeder.py:100: extract_pandas_data (from tensorflow.contrib.learn.python.learn.learn_io.pandas_io) is deprecated and will be removed in a future version.\n",
      "Instructions for updating:\n",
      "Please access pandas data directly.\n",
      "WARNING:tensorflow:From /home/uldo/miniconda3/envs/DS-New/lib/python3.6/site-packages/tensorflow/contrib/learn/python/learn/learn_io/data_feeder.py:159: DataFeeder.__init__ (from tensorflow.contrib.learn.python.learn.learn_io.data_feeder) is deprecated and will be removed in a future version.\n",
      "Instructions for updating:\n",
      "Please use tensorflow/transform or tf.data.\n",
      "WARNING:tensorflow:From /home/uldo/miniconda3/envs/DS-New/lib/python3.6/site-packages/tensorflow/contrib/learn/python/learn/learn_io/data_feeder.py:340: check_array (from tensorflow.contrib.learn.python.learn.learn_io.data_feeder) is deprecated and will be removed in a future version.\n",
      "Instructions for updating:\n",
      "Please convert numpy dtypes explicitly.\n",
      "WARNING:tensorflow:float64 is not supported by many models, consider casting to float32.\n",
      "WARNING:tensorflow:From /home/uldo/miniconda3/envs/DS-New/lib/python3.6/site-packages/tensorflow/contrib/learn/python/learn/estimators/estimator.py:182: infer_real_valued_columns_from_input_fn (from tensorflow.contrib.learn.python.learn.estimators.estimator) is deprecated and will be removed in a future version.\n",
      "Instructions for updating:\n",
      "Please specify feature columns explicitly.\n",
      "WARNING:tensorflow:From /home/uldo/miniconda3/envs/DS-New/lib/python3.6/site-packages/tensorflow/contrib/learn/python/learn/estimators/dnn.py:378: multi_class_head (from tensorflow.contrib.learn.python.learn.estimators.head) is deprecated and will be removed in a future version.\n",
      "Instructions for updating:\n",
      "Please switch to tf.contrib.estimator.*_head.\n",
      "WARNING:tensorflow:From /home/uldo/miniconda3/envs/DS-New/lib/python3.6/site-packages/tensorflow/contrib/learn/python/learn/estimators/estimator.py:1179: BaseEstimator.__init__ (from tensorflow.contrib.learn.python.learn.estimators.estimator) is deprecated and will be removed in a future version.\n",
      "Instructions for updating:\n",
      "Please replace uses of any Estimator from tf.contrib.learn with an Estimator from tf.estimator.*\n",
      "WARNING:tensorflow:From /home/uldo/miniconda3/envs/DS-New/lib/python3.6/site-packages/tensorflow/contrib/learn/python/learn/estimators/estimator.py:427: RunConfig.__init__ (from tensorflow.contrib.learn.python.learn.estimators.run_config) is deprecated and will be removed in a future version.\n",
      "Instructions for updating:\n",
      "When switching to tf.estimator.Estimator, use tf.estimator.RunConfig instead.\n",
      "INFO:tensorflow:Using default config.\n",
      "WARNING:tensorflow:Using temporary folder as model directory: /tmp/tmpiwludibt\n",
      "INFO:tensorflow:Using config: {'_task_type': None, '_task_id': 0, '_cluster_spec': <tensorflow.python.training.server_lib.ClusterSpec object at 0x7fc8640b8470>, '_master': '', '_num_ps_replicas': 0, '_num_worker_replicas': 0, '_environment': 'local', '_is_chief': True, '_evaluation_master': '', '_train_distribute': None, '_device_fn': None, '_tf_config': gpu_options {\n",
      "  per_process_gpu_memory_fraction: 1.0\n",
      "}\n",
      ", '_tf_random_seed': None, '_save_summary_steps': 100, '_save_checkpoints_secs': 600, '_log_step_count_steps': 100, '_session_config': None, '_save_checkpoints_steps': None, '_keep_checkpoint_max': 5, '_keep_checkpoint_every_n_hours': 10000, '_model_dir': '/tmp/tmpiwludibt'}\n",
      "WARNING:tensorflow:From <ipython-input-62-ef81dbbe0887>:7: SKCompat.__init__ (from tensorflow.contrib.learn.python.learn.estimators.estimator) is deprecated and will be removed in a future version.\n",
      "Instructions for updating:\n",
      "Please switch to the Estimator interface.\n",
      "WARNING:tensorflow:From /home/uldo/miniconda3/envs/DS-New/lib/python3.6/site-packages/tensorflow/contrib/learn/python/learn/learn_io/data_feeder.py:98: extract_dask_labels (from tensorflow.contrib.learn.python.learn.learn_io.dask_io) is deprecated and will be removed in a future version.\n",
      "Instructions for updating:\n",
      "Please feed input to tf.data to support dask.\n",
      "WARNING:tensorflow:From /home/uldo/miniconda3/envs/DS-New/lib/python3.6/site-packages/tensorflow/contrib/learn/python/learn/learn_io/data_feeder.py:102: extract_pandas_labels (from tensorflow.contrib.learn.python.learn.learn_io.pandas_io) is deprecated and will be removed in a future version.\n",
      "Instructions for updating:\n",
      "Please access pandas data directly.\n",
      "WARNING:tensorflow:float64 is not supported by many models, consider casting to float32.\n",
      "WARNING:tensorflow:From /home/uldo/miniconda3/envs/DS-New/lib/python3.6/site-packages/tensorflow/contrib/learn/python/learn/estimators/head.py:678: ModelFnOps.__new__ (from tensorflow.contrib.learn.python.learn.estimators.model_fn) is deprecated and will be removed in a future version.\n",
      "Instructions for updating:\n",
      "When switching to tf.estimator.Estimator, use tf.estimator.EstimatorSpec. You can use the `estimator_spec` method to create an equivalent one.\n",
      "INFO:tensorflow:Create CheckpointSaverHook.\n",
      "INFO:tensorflow:Graph was finalized.\n",
      "INFO:tensorflow:Running local_init_op.\n",
      "INFO:tensorflow:Done running local_init_op.\n",
      "INFO:tensorflow:Saving checkpoints for 0 into /tmp/tmpiwludibt/model.ckpt.\n",
      "INFO:tensorflow:loss = 2.386226, step = 0\n",
      "INFO:tensorflow:global_step/sec: 436.272\n",
      "INFO:tensorflow:loss = 0.069372326, step = 100 (0.231 sec)\n",
      "INFO:tensorflow:global_step/sec: 510.759\n",
      "INFO:tensorflow:loss = 0.0265522, step = 200 (0.196 sec)\n",
      "INFO:tensorflow:global_step/sec: 443.282\n",
      "INFO:tensorflow:loss = 0.01446674, step = 300 (0.228 sec)\n",
      "INFO:tensorflow:global_step/sec: 251.108\n",
      "INFO:tensorflow:loss = 0.0070913043, step = 400 (0.397 sec)\n",
      "INFO:tensorflow:global_step/sec: 417.337\n",
      "INFO:tensorflow:loss = 0.003642389, step = 500 (0.238 sec)\n",
      "INFO:tensorflow:global_step/sec: 527.437\n",
      "INFO:tensorflow:loss = 0.0060107154, step = 600 (0.190 sec)\n",
      "INFO:tensorflow:global_step/sec: 408.396\n",
      "INFO:tensorflow:loss = 0.0067881173, step = 700 (0.246 sec)\n",
      "INFO:tensorflow:global_step/sec: 452.291\n",
      "INFO:tensorflow:loss = 0.007277817, step = 800 (0.221 sec)\n",
      "INFO:tensorflow:global_step/sec: 545.021\n",
      "INFO:tensorflow:loss = 0.005733782, step = 900 (0.184 sec)\n",
      "INFO:tensorflow:global_step/sec: 534.408\n",
      "INFO:tensorflow:loss = 0.0019563236, step = 1000 (0.187 sec)\n",
      "INFO:tensorflow:global_step/sec: 516.864\n",
      "INFO:tensorflow:loss = 0.0012029448, step = 1100 (0.193 sec)\n",
      "INFO:tensorflow:global_step/sec: 509.409\n",
      "INFO:tensorflow:loss = 0.00128763, step = 1200 (0.196 sec)\n",
      "INFO:tensorflow:global_step/sec: 545.012\n",
      "INFO:tensorflow:loss = 0.002951537, step = 1300 (0.183 sec)\n",
      "INFO:tensorflow:global_step/sec: 532.186\n",
      "INFO:tensorflow:loss = 0.0015383018, step = 1400 (0.188 sec)\n",
      "INFO:tensorflow:global_step/sec: 571.215\n",
      "INFO:tensorflow:loss = 0.0014145816, step = 1500 (0.175 sec)\n",
      "INFO:tensorflow:global_step/sec: 540.548\n",
      "INFO:tensorflow:loss = 0.0026382601, step = 1600 (0.185 sec)\n",
      "INFO:tensorflow:global_step/sec: 564.311\n",
      "INFO:tensorflow:loss = 0.0028270893, step = 1700 (0.177 sec)\n",
      "INFO:tensorflow:global_step/sec: 584.132\n",
      "INFO:tensorflow:loss = 0.0005644164, step = 1800 (0.171 sec)\n",
      "INFO:tensorflow:global_step/sec: 585.252\n"
     ]
    },
    {
     "name": "stdout",
     "output_type": "stream",
     "text": [
      "INFO:tensorflow:loss = 0.0022905567, step = 1900 (0.171 sec)\n",
      "INFO:tensorflow:global_step/sec: 575.746\n",
      "INFO:tensorflow:loss = 0.0015257047, step = 2000 (0.174 sec)\n",
      "INFO:tensorflow:global_step/sec: 548.241\n",
      "INFO:tensorflow:loss = 0.00091822003, step = 2100 (0.183 sec)\n",
      "INFO:tensorflow:global_step/sec: 572.653\n",
      "INFO:tensorflow:loss = 0.0007168489, step = 2200 (0.175 sec)\n",
      "INFO:tensorflow:global_step/sec: 525.415\n",
      "INFO:tensorflow:loss = 0.0013131395, step = 2300 (0.190 sec)\n",
      "INFO:tensorflow:global_step/sec: 569.324\n",
      "INFO:tensorflow:loss = 0.00046992346, step = 2400 (0.175 sec)\n",
      "INFO:tensorflow:global_step/sec: 569.188\n",
      "INFO:tensorflow:loss = 0.0009340857, step = 2500 (0.176 sec)\n",
      "INFO:tensorflow:global_step/sec: 553.546\n",
      "INFO:tensorflow:loss = 0.0011635409, step = 2600 (0.181 sec)\n",
      "INFO:tensorflow:global_step/sec: 541.979\n",
      "INFO:tensorflow:loss = 0.0007821798, step = 2700 (0.185 sec)\n",
      "INFO:tensorflow:global_step/sec: 533.426\n",
      "INFO:tensorflow:loss = 0.000736103, step = 2800 (0.188 sec)\n",
      "INFO:tensorflow:global_step/sec: 525.292\n",
      "INFO:tensorflow:loss = 0.00023094047, step = 2900 (0.190 sec)\n",
      "INFO:tensorflow:global_step/sec: 554.894\n",
      "INFO:tensorflow:loss = 0.001004511, step = 3000 (0.181 sec)\n",
      "INFO:tensorflow:global_step/sec: 557.813\n",
      "INFO:tensorflow:loss = 0.0005650928, step = 3100 (0.179 sec)\n",
      "INFO:tensorflow:global_step/sec: 548.294\n",
      "INFO:tensorflow:loss = 0.00080025644, step = 3200 (0.183 sec)\n",
      "INFO:tensorflow:global_step/sec: 536.218\n",
      "INFO:tensorflow:loss = 0.00060348416, step = 3300 (0.186 sec)\n",
      "INFO:tensorflow:global_step/sec: 367.4\n",
      "INFO:tensorflow:loss = 0.000565262, step = 3400 (0.273 sec)\n",
      "INFO:tensorflow:global_step/sec: 322.158\n",
      "INFO:tensorflow:loss = 0.00082119106, step = 3500 (0.309 sec)\n",
      "INFO:tensorflow:global_step/sec: 516.82\n",
      "INFO:tensorflow:loss = 0.0006763495, step = 3600 (0.193 sec)\n",
      "INFO:tensorflow:global_step/sec: 548.995\n",
      "INFO:tensorflow:loss = 0.00024150702, step = 3700 (0.182 sec)\n",
      "INFO:tensorflow:global_step/sec: 457.069\n",
      "INFO:tensorflow:loss = 0.0006199895, step = 3800 (0.220 sec)\n",
      "INFO:tensorflow:global_step/sec: 520.628\n",
      "INFO:tensorflow:loss = 0.00023472961, step = 3900 (0.191 sec)\n",
      "INFO:tensorflow:global_step/sec: 547.396\n",
      "INFO:tensorflow:loss = 0.00038458247, step = 4000 (0.183 sec)\n",
      "INFO:tensorflow:global_step/sec: 524.093\n",
      "INFO:tensorflow:loss = 0.00095754804, step = 4100 (0.191 sec)\n",
      "INFO:tensorflow:global_step/sec: 523.307\n",
      "INFO:tensorflow:loss = 0.00031196198, step = 4200 (0.192 sec)\n",
      "INFO:tensorflow:global_step/sec: 520.834\n",
      "INFO:tensorflow:loss = 0.0003186121, step = 4300 (0.191 sec)\n",
      "INFO:tensorflow:global_step/sec: 572.959\n",
      "INFO:tensorflow:loss = 0.0005982427, step = 4400 (0.174 sec)\n",
      "INFO:tensorflow:global_step/sec: 583.717\n",
      "INFO:tensorflow:loss = 0.00032779702, step = 4500 (0.171 sec)\n",
      "INFO:tensorflow:global_step/sec: 562.091\n",
      "INFO:tensorflow:loss = 0.00021903517, step = 4600 (0.178 sec)\n",
      "INFO:tensorflow:global_step/sec: 591.497\n",
      "INFO:tensorflow:loss = 0.0005294167, step = 4700 (0.169 sec)\n",
      "INFO:tensorflow:global_step/sec: 551.343\n",
      "INFO:tensorflow:loss = 0.0004697879, step = 4800 (0.181 sec)\n",
      "INFO:tensorflow:global_step/sec: 547.185\n",
      "INFO:tensorflow:loss = 0.00047465612, step = 4900 (0.183 sec)\n",
      "INFO:tensorflow:global_step/sec: 552.441\n",
      "INFO:tensorflow:loss = 0.00020938489, step = 5000 (0.181 sec)\n",
      "INFO:tensorflow:global_step/sec: 579.37\n",
      "INFO:tensorflow:loss = 0.00041663638, step = 5100 (0.172 sec)\n",
      "INFO:tensorflow:global_step/sec: 569.382\n",
      "INFO:tensorflow:loss = 0.00019855838, step = 5200 (0.176 sec)\n",
      "INFO:tensorflow:global_step/sec: 554.189\n",
      "INFO:tensorflow:loss = 0.00013906125, step = 5300 (0.181 sec)\n",
      "INFO:tensorflow:global_step/sec: 529.686\n",
      "INFO:tensorflow:loss = 0.000453704, step = 5400 (0.189 sec)\n",
      "INFO:tensorflow:global_step/sec: 488.311\n",
      "INFO:tensorflow:loss = 0.0003448176, step = 5500 (0.205 sec)\n",
      "INFO:tensorflow:global_step/sec: 546.224\n",
      "INFO:tensorflow:loss = 0.00036705993, step = 5600 (0.182 sec)\n",
      "INFO:tensorflow:global_step/sec: 547.007\n",
      "INFO:tensorflow:loss = 0.0002560553, step = 5700 (0.183 sec)\n",
      "INFO:tensorflow:global_step/sec: 562.322\n",
      "INFO:tensorflow:loss = 0.00029254754, step = 5800 (0.178 sec)\n",
      "INFO:tensorflow:global_step/sec: 558.923\n",
      "INFO:tensorflow:loss = 0.000314698, step = 5900 (0.179 sec)\n",
      "INFO:tensorflow:global_step/sec: 510.318\n",
      "INFO:tensorflow:loss = 0.00046398892, step = 6000 (0.196 sec)\n",
      "INFO:tensorflow:global_step/sec: 558.867\n",
      "INFO:tensorflow:loss = 0.00025468308, step = 6100 (0.179 sec)\n",
      "INFO:tensorflow:global_step/sec: 575.47\n",
      "INFO:tensorflow:loss = 0.0002382316, step = 6200 (0.174 sec)\n",
      "INFO:tensorflow:global_step/sec: 521.361\n",
      "INFO:tensorflow:loss = 0.00014113775, step = 6300 (0.192 sec)\n",
      "INFO:tensorflow:global_step/sec: 560.661\n",
      "INFO:tensorflow:loss = 0.00022213496, step = 6400 (0.179 sec)\n",
      "INFO:tensorflow:global_step/sec: 322.605\n",
      "INFO:tensorflow:loss = 0.00027113035, step = 6500 (0.314 sec)\n",
      "INFO:tensorflow:global_step/sec: 280.99\n",
      "INFO:tensorflow:loss = 0.00030701156, step = 6600 (0.358 sec)\n",
      "INFO:tensorflow:global_step/sec: 489.91\n",
      "INFO:tensorflow:loss = 0.00015230013, step = 6700 (0.198 sec)\n",
      "INFO:tensorflow:global_step/sec: 574.365\n",
      "INFO:tensorflow:loss = 0.0005050129, step = 6800 (0.174 sec)\n",
      "INFO:tensorflow:global_step/sec: 524.192\n",
      "INFO:tensorflow:loss = 0.00017113429, step = 6900 (0.191 sec)\n",
      "INFO:tensorflow:global_step/sec: 562.372\n",
      "INFO:tensorflow:loss = 0.00022710473, step = 7000 (0.178 sec)\n",
      "INFO:tensorflow:global_step/sec: 550.037\n",
      "INFO:tensorflow:loss = 0.00018693123, step = 7100 (0.182 sec)\n",
      "INFO:tensorflow:global_step/sec: 544.793\n",
      "INFO:tensorflow:loss = 0.00048360112, step = 7200 (0.184 sec)\n",
      "INFO:tensorflow:global_step/sec: 538.349\n",
      "INFO:tensorflow:loss = 9.800661e-05, step = 7300 (0.186 sec)\n",
      "INFO:tensorflow:global_step/sec: 506.222\n",
      "INFO:tensorflow:loss = 9.425735e-05, step = 7400 (0.197 sec)\n",
      "INFO:tensorflow:global_step/sec: 555.736\n",
      "INFO:tensorflow:loss = 0.0002873747, step = 7500 (0.180 sec)\n",
      "INFO:tensorflow:global_step/sec: 539.451\n",
      "INFO:tensorflow:loss = 0.00036835895, step = 7600 (0.185 sec)\n",
      "INFO:tensorflow:global_step/sec: 519.255\n",
      "INFO:tensorflow:loss = 0.00021918202, step = 7700 (0.193 sec)\n",
      "INFO:tensorflow:global_step/sec: 551.131\n",
      "INFO:tensorflow:loss = 0.0002029221, step = 7800 (0.182 sec)\n",
      "INFO:tensorflow:global_step/sec: 519.669\n",
      "INFO:tensorflow:loss = 0.00028829958, step = 7900 (0.193 sec)\n",
      "INFO:tensorflow:global_step/sec: 487.593\n",
      "INFO:tensorflow:loss = 0.0002528759, step = 8000 (0.204 sec)\n",
      "INFO:tensorflow:global_step/sec: 539.802\n",
      "INFO:tensorflow:loss = 0.0002598, step = 8100 (0.185 sec)\n",
      "INFO:tensorflow:global_step/sec: 557.53\n",
      "INFO:tensorflow:loss = 0.0004334452, step = 8200 (0.179 sec)\n",
      "INFO:tensorflow:global_step/sec: 550.616\n",
      "INFO:tensorflow:loss = 0.00011462229, step = 8300 (0.182 sec)\n",
      "INFO:tensorflow:global_step/sec: 564.639\n",
      "INFO:tensorflow:loss = 0.00011449458, step = 8400 (0.177 sec)\n",
      "INFO:tensorflow:global_step/sec: 516.567\n",
      "INFO:tensorflow:loss = 0.00028655626, step = 8500 (0.194 sec)\n",
      "INFO:tensorflow:global_step/sec: 577.361\n",
      "INFO:tensorflow:loss = 0.00015222839, step = 8600 (0.173 sec)\n",
      "INFO:tensorflow:global_step/sec: 586.394\n",
      "INFO:tensorflow:loss = 8.6290616e-05, step = 8700 (0.171 sec)\n",
      "INFO:tensorflow:global_step/sec: 585.555\n",
      "INFO:tensorflow:loss = 0.00016389675, step = 8800 (0.171 sec)\n",
      "INFO:tensorflow:global_step/sec: 544.041\n",
      "INFO:tensorflow:loss = 0.00015579235, step = 8900 (0.184 sec)\n",
      "INFO:tensorflow:global_step/sec: 509.184\n",
      "INFO:tensorflow:loss = 0.00017330298, step = 9000 (0.197 sec)\n",
      "INFO:tensorflow:global_step/sec: 533.268\n",
      "INFO:tensorflow:loss = 0.00035843506, step = 9100 (0.187 sec)\n",
      "INFO:tensorflow:global_step/sec: 572.941\n",
      "INFO:tensorflow:loss = 0.0001821534, step = 9200 (0.174 sec)\n",
      "INFO:tensorflow:global_step/sec: 552.203\n",
      "INFO:tensorflow:loss = 0.00020314875, step = 9300 (0.181 sec)\n",
      "INFO:tensorflow:global_step/sec: 571.733\n",
      "INFO:tensorflow:loss = 9.253584e-05, step = 9400 (0.175 sec)\n",
      "INFO:tensorflow:global_step/sec: 562.15\n",
      "INFO:tensorflow:loss = 0.00019869301, step = 9500 (0.178 sec)\n",
      "INFO:tensorflow:global_step/sec: 480.318\n",
      "INFO:tensorflow:loss = 5.7896472e-05, step = 9600 (0.210 sec)\n",
      "INFO:tensorflow:global_step/sec: 341.265\n",
      "INFO:tensorflow:loss = 0.000115218136, step = 9700 (0.292 sec)\n",
      "INFO:tensorflow:global_step/sec: 391.705\n",
      "INFO:tensorflow:loss = 0.0002189301, step = 9800 (0.254 sec)\n",
      "INFO:tensorflow:global_step/sec: 564.386\n",
      "INFO:tensorflow:loss = 0.00012212893, step = 9900 (0.177 sec)\n"
     ]
    },
    {
     "name": "stdout",
     "output_type": "stream",
     "text": [
      "INFO:tensorflow:global_step/sec: 531.669\n",
      "INFO:tensorflow:loss = 0.0001643242, step = 10000 (0.188 sec)\n",
      "INFO:tensorflow:global_step/sec: 557.566\n",
      "INFO:tensorflow:loss = 7.294329e-05, step = 10100 (0.179 sec)\n",
      "INFO:tensorflow:global_step/sec: 514.033\n",
      "INFO:tensorflow:loss = 0.0002483264, step = 10200 (0.195 sec)\n",
      "INFO:tensorflow:global_step/sec: 538.47\n",
      "INFO:tensorflow:loss = 0.0002468462, step = 10300 (0.185 sec)\n",
      "INFO:tensorflow:global_step/sec: 550.091\n",
      "INFO:tensorflow:loss = 0.00032476, step = 10400 (0.182 sec)\n",
      "INFO:tensorflow:global_step/sec: 565.119\n",
      "INFO:tensorflow:loss = 0.00015859598, step = 10500 (0.177 sec)\n",
      "INFO:tensorflow:global_step/sec: 481.374\n",
      "INFO:tensorflow:loss = 4.620325e-05, step = 10600 (0.208 sec)\n",
      "INFO:tensorflow:global_step/sec: 548.403\n",
      "INFO:tensorflow:loss = 0.00018691093, step = 10700 (0.182 sec)\n",
      "INFO:tensorflow:global_step/sec: 568.134\n",
      "INFO:tensorflow:loss = 8.43733e-05, step = 10800 (0.176 sec)\n",
      "INFO:tensorflow:global_step/sec: 533.819\n",
      "INFO:tensorflow:loss = 8.9134875e-05, step = 10900 (0.187 sec)\n",
      "INFO:tensorflow:global_step/sec: 573.747\n",
      "INFO:tensorflow:loss = 0.00014033815, step = 11000 (0.174 sec)\n",
      "INFO:tensorflow:global_step/sec: 513.994\n",
      "INFO:tensorflow:loss = 0.00011966054, step = 11100 (0.195 sec)\n",
      "INFO:tensorflow:global_step/sec: 558.86\n",
      "INFO:tensorflow:loss = 0.00012377293, step = 11200 (0.179 sec)\n",
      "INFO:tensorflow:global_step/sec: 558.61\n",
      "INFO:tensorflow:loss = 8.31238e-05, step = 11300 (0.179 sec)\n",
      "INFO:tensorflow:global_step/sec: 513.796\n",
      "INFO:tensorflow:loss = 7.028403e-05, step = 11400 (0.195 sec)\n",
      "INFO:tensorflow:global_step/sec: 512.677\n",
      "INFO:tensorflow:loss = 0.00013186195, step = 11500 (0.196 sec)\n",
      "INFO:tensorflow:global_step/sec: 577.873\n",
      "INFO:tensorflow:loss = 6.511774e-05, step = 11600 (0.173 sec)\n",
      "INFO:tensorflow:global_step/sec: 479.258\n",
      "INFO:tensorflow:loss = 8.166031e-05, step = 11700 (0.209 sec)\n",
      "INFO:tensorflow:global_step/sec: 568.825\n",
      "INFO:tensorflow:loss = 0.00012070712, step = 11800 (0.175 sec)\n",
      "INFO:tensorflow:global_step/sec: 559.599\n",
      "INFO:tensorflow:loss = 0.00014346017, step = 11900 (0.179 sec)\n",
      "INFO:tensorflow:global_step/sec: 567.308\n",
      "INFO:tensorflow:loss = 0.00019772179, step = 12000 (0.176 sec)\n",
      "INFO:tensorflow:global_step/sec: 568.439\n",
      "INFO:tensorflow:loss = 0.00015602281, step = 12100 (0.176 sec)\n",
      "INFO:tensorflow:global_step/sec: 538.833\n",
      "INFO:tensorflow:loss = 0.0001424422, step = 12200 (0.186 sec)\n",
      "INFO:tensorflow:global_step/sec: 545.792\n",
      "INFO:tensorflow:loss = 0.00013614196, step = 12300 (0.183 sec)\n",
      "INFO:tensorflow:global_step/sec: 579.805\n",
      "INFO:tensorflow:loss = 0.00011556047, step = 12400 (0.173 sec)\n",
      "INFO:tensorflow:global_step/sec: 543.118\n",
      "INFO:tensorflow:loss = 0.00016048939, step = 12500 (0.186 sec)\n",
      "INFO:tensorflow:global_step/sec: 558.983\n",
      "INFO:tensorflow:loss = 0.00012493052, step = 12600 (0.178 sec)\n",
      "INFO:tensorflow:global_step/sec: 567.981\n",
      "INFO:tensorflow:loss = 9.477734e-05, step = 12700 (0.176 sec)\n",
      "INFO:tensorflow:global_step/sec: 385.124\n",
      "INFO:tensorflow:loss = 0.00029628555, step = 12800 (0.261 sec)\n",
      "INFO:tensorflow:global_step/sec: 335.481\n",
      "INFO:tensorflow:loss = 0.00012552117, step = 12900 (0.297 sec)\n",
      "INFO:tensorflow:global_step/sec: 493.762\n",
      "INFO:tensorflow:loss = 0.00013876977, step = 13000 (0.202 sec)\n",
      "INFO:tensorflow:global_step/sec: 542.349\n",
      "INFO:tensorflow:loss = 5.3096282e-05, step = 13100 (0.184 sec)\n",
      "INFO:tensorflow:global_step/sec: 502.554\n",
      "INFO:tensorflow:loss = 0.00014701893, step = 13200 (0.200 sec)\n",
      "INFO:tensorflow:global_step/sec: 511.906\n",
      "INFO:tensorflow:loss = 0.00013684935, step = 13300 (0.195 sec)\n",
      "INFO:tensorflow:global_step/sec: 530.612\n",
      "INFO:tensorflow:loss = 5.999371e-05, step = 13400 (0.188 sec)\n",
      "INFO:tensorflow:global_step/sec: 558.885\n",
      "INFO:tensorflow:loss = 0.00013805456, step = 13500 (0.179 sec)\n",
      "INFO:tensorflow:global_step/sec: 538.251\n",
      "INFO:tensorflow:loss = 0.00014420194, step = 13600 (0.186 sec)\n",
      "INFO:tensorflow:global_step/sec: 491.934\n",
      "INFO:tensorflow:loss = 0.000112790294, step = 13700 (0.203 sec)\n",
      "INFO:tensorflow:global_step/sec: 543.19\n",
      "INFO:tensorflow:loss = 0.00016931469, step = 13800 (0.184 sec)\n",
      "INFO:tensorflow:global_step/sec: 508.992\n",
      "INFO:tensorflow:loss = 0.00014617902, step = 13900 (0.196 sec)\n",
      "INFO:tensorflow:global_step/sec: 594.011\n",
      "INFO:tensorflow:loss = 0.00014520506, step = 14000 (0.168 sec)\n",
      "INFO:tensorflow:global_step/sec: 579.884\n",
      "INFO:tensorflow:loss = 0.00011623342, step = 14100 (0.173 sec)\n",
      "INFO:tensorflow:global_step/sec: 573.259\n",
      "INFO:tensorflow:loss = 0.0001436468, step = 14200 (0.174 sec)\n",
      "INFO:tensorflow:global_step/sec: 541.449\n",
      "INFO:tensorflow:loss = 8.972923e-05, step = 14300 (0.185 sec)\n",
      "INFO:tensorflow:global_step/sec: 585.366\n",
      "INFO:tensorflow:loss = 0.00022044904, step = 14400 (0.171 sec)\n",
      "INFO:tensorflow:global_step/sec: 574.82\n",
      "INFO:tensorflow:loss = 0.0001391743, step = 14500 (0.174 sec)\n",
      "INFO:tensorflow:global_step/sec: 561.996\n",
      "INFO:tensorflow:loss = 0.0001348078, step = 14600 (0.178 sec)\n",
      "INFO:tensorflow:global_step/sec: 576.623\n",
      "INFO:tensorflow:loss = 7.8533645e-05, step = 14700 (0.173 sec)\n",
      "INFO:tensorflow:global_step/sec: 545.986\n",
      "INFO:tensorflow:loss = 0.0001274876, step = 14800 (0.184 sec)\n",
      "INFO:tensorflow:global_step/sec: 562.175\n",
      "INFO:tensorflow:loss = 6.283788e-05, step = 14900 (0.177 sec)\n",
      "INFO:tensorflow:global_step/sec: 576.676\n",
      "INFO:tensorflow:loss = 8.2105005e-05, step = 15000 (0.174 sec)\n",
      "INFO:tensorflow:global_step/sec: 552.927\n",
      "INFO:tensorflow:loss = 6.560372e-05, step = 15100 (0.180 sec)\n",
      "INFO:tensorflow:global_step/sec: 572.882\n",
      "INFO:tensorflow:loss = 9.084101e-05, step = 15200 (0.175 sec)\n",
      "INFO:tensorflow:global_step/sec: 544.693\n",
      "INFO:tensorflow:loss = 5.4793647e-05, step = 15300 (0.183 sec)\n",
      "INFO:tensorflow:global_step/sec: 554.167\n",
      "INFO:tensorflow:loss = 5.5115957e-05, step = 15400 (0.181 sec)\n",
      "INFO:tensorflow:global_step/sec: 538.341\n",
      "INFO:tensorflow:loss = 0.00015472165, step = 15500 (0.186 sec)\n",
      "INFO:tensorflow:global_step/sec: 549.737\n",
      "INFO:tensorflow:loss = 7.207713e-05, step = 15600 (0.182 sec)\n",
      "INFO:tensorflow:global_step/sec: 538.557\n",
      "INFO:tensorflow:loss = 8.036091e-05, step = 15700 (0.186 sec)\n",
      "INFO:tensorflow:global_step/sec: 526.794\n",
      "INFO:tensorflow:loss = 8.6270775e-05, step = 15800 (0.190 sec)\n",
      "INFO:tensorflow:global_step/sec: 530.82\n",
      "INFO:tensorflow:loss = 5.4415304e-05, step = 15900 (0.189 sec)\n",
      "INFO:tensorflow:global_step/sec: 300.985\n",
      "INFO:tensorflow:loss = 6.391798e-05, step = 16000 (0.333 sec)\n",
      "INFO:tensorflow:global_step/sec: 337.579\n",
      "INFO:tensorflow:loss = 9.572469e-05, step = 16100 (0.295 sec)\n",
      "INFO:tensorflow:global_step/sec: 566.002\n",
      "INFO:tensorflow:loss = 0.00012498196, step = 16200 (0.177 sec)\n",
      "INFO:tensorflow:global_step/sec: 503.388\n",
      "INFO:tensorflow:loss = 3.8528862e-05, step = 16300 (0.199 sec)\n",
      "INFO:tensorflow:global_step/sec: 469.677\n",
      "INFO:tensorflow:loss = 9.606107e-05, step = 16400 (0.213 sec)\n",
      "INFO:tensorflow:global_step/sec: 534.292\n",
      "INFO:tensorflow:loss = 0.00010715481, step = 16500 (0.187 sec)\n",
      "INFO:tensorflow:global_step/sec: 518.263\n",
      "INFO:tensorflow:loss = 6.0325066e-05, step = 16600 (0.193 sec)\n",
      "INFO:tensorflow:global_step/sec: 540.287\n",
      "INFO:tensorflow:loss = 9.271008e-05, step = 16700 (0.185 sec)\n",
      "INFO:tensorflow:global_step/sec: 480.078\n",
      "INFO:tensorflow:loss = 9.411687e-05, step = 16800 (0.208 sec)\n",
      "INFO:tensorflow:global_step/sec: 524.85\n",
      "INFO:tensorflow:loss = 4.7872178e-05, step = 16900 (0.190 sec)\n",
      "INFO:tensorflow:global_step/sec: 574.17\n",
      "INFO:tensorflow:loss = 5.8825208e-05, step = 17000 (0.174 sec)\n",
      "INFO:tensorflow:global_step/sec: 527.475\n",
      "INFO:tensorflow:loss = 0.0001927098, step = 17100 (0.190 sec)\n",
      "INFO:tensorflow:global_step/sec: 543.554\n",
      "INFO:tensorflow:loss = 8.178419e-05, step = 17200 (0.184 sec)\n",
      "INFO:tensorflow:global_step/sec: 550.54\n",
      "INFO:tensorflow:loss = 7.672067e-05, step = 17300 (0.182 sec)\n",
      "INFO:tensorflow:global_step/sec: 556.221\n",
      "INFO:tensorflow:loss = 7.391148e-05, step = 17400 (0.180 sec)\n",
      "INFO:tensorflow:global_step/sec: 566.294\n",
      "INFO:tensorflow:loss = 7.690196e-05, step = 17500 (0.177 sec)\n",
      "INFO:tensorflow:global_step/sec: 565.796\n",
      "INFO:tensorflow:loss = 8.112099e-05, step = 17600 (0.177 sec)\n",
      "INFO:tensorflow:global_step/sec: 572.536\n",
      "INFO:tensorflow:loss = 9.181336e-05, step = 17700 (0.175 sec)\n",
      "INFO:tensorflow:global_step/sec: 562.543\n",
      "INFO:tensorflow:loss = 4.550352e-05, step = 17800 (0.178 sec)\n",
      "INFO:tensorflow:global_step/sec: 514.996\n"
     ]
    },
    {
     "name": "stdout",
     "output_type": "stream",
     "text": [
      "INFO:tensorflow:loss = 7.911937e-05, step = 17900 (0.194 sec)\n",
      "INFO:tensorflow:global_step/sec: 553.723\n",
      "INFO:tensorflow:loss = 0.00010502185, step = 18000 (0.180 sec)\n",
      "INFO:tensorflow:global_step/sec: 538.935\n",
      "INFO:tensorflow:loss = 4.2893575e-05, step = 18100 (0.186 sec)\n",
      "INFO:tensorflow:global_step/sec: 583.34\n",
      "INFO:tensorflow:loss = 6.436221e-05, step = 18200 (0.173 sec)\n",
      "INFO:tensorflow:global_step/sec: 575.353\n",
      "INFO:tensorflow:loss = 7.527436e-05, step = 18300 (0.172 sec)\n",
      "INFO:tensorflow:global_step/sec: 593.155\n",
      "INFO:tensorflow:loss = 4.636864e-05, step = 18400 (0.168 sec)\n",
      "INFO:tensorflow:global_step/sec: 523.771\n",
      "INFO:tensorflow:loss = 8.920743e-05, step = 18500 (0.191 sec)\n",
      "INFO:tensorflow:global_step/sec: 555.823\n",
      "INFO:tensorflow:loss = 9.369578e-05, step = 18600 (0.180 sec)\n",
      "INFO:tensorflow:global_step/sec: 554.007\n",
      "INFO:tensorflow:loss = 5.0524188e-05, step = 18700 (0.181 sec)\n",
      "INFO:tensorflow:global_step/sec: 585.552\n",
      "INFO:tensorflow:loss = 3.8318638e-05, step = 18800 (0.171 sec)\n",
      "INFO:tensorflow:global_step/sec: 534.103\n",
      "INFO:tensorflow:loss = 4.5772857e-05, step = 18900 (0.187 sec)\n",
      "INFO:tensorflow:global_step/sec: 483.485\n",
      "INFO:tensorflow:loss = 0.00010228703, step = 19000 (0.208 sec)\n",
      "INFO:tensorflow:global_step/sec: 285.726\n",
      "INFO:tensorflow:loss = 6.726461e-05, step = 19100 (0.351 sec)\n",
      "INFO:tensorflow:global_step/sec: 374.188\n",
      "INFO:tensorflow:loss = 7.4823416e-05, step = 19200 (0.266 sec)\n",
      "INFO:tensorflow:global_step/sec: 556.031\n",
      "INFO:tensorflow:loss = 9.995779e-05, step = 19300 (0.180 sec)\n",
      "INFO:tensorflow:global_step/sec: 533.894\n",
      "INFO:tensorflow:loss = 7.067438e-05, step = 19400 (0.187 sec)\n",
      "INFO:tensorflow:global_step/sec: 546.354\n",
      "INFO:tensorflow:loss = 7.496643e-05, step = 19500 (0.183 sec)\n",
      "INFO:tensorflow:global_step/sec: 536.122\n",
      "INFO:tensorflow:loss = 3.680645e-05, step = 19600 (0.187 sec)\n",
      "INFO:tensorflow:global_step/sec: 523.169\n",
      "INFO:tensorflow:loss = 9.978786e-05, step = 19700 (0.192 sec)\n",
      "INFO:tensorflow:global_step/sec: 547.925\n",
      "INFO:tensorflow:loss = 4.544745e-05, step = 19800 (0.182 sec)\n",
      "INFO:tensorflow:global_step/sec: 572.812\n",
      "INFO:tensorflow:loss = 5.774336e-05, step = 19900 (0.175 sec)\n",
      "INFO:tensorflow:global_step/sec: 574.178\n",
      "INFO:tensorflow:loss = 4.9776267e-05, step = 20000 (0.174 sec)\n",
      "INFO:tensorflow:global_step/sec: 577.511\n",
      "INFO:tensorflow:loss = 8.966632e-05, step = 20100 (0.173 sec)\n",
      "INFO:tensorflow:global_step/sec: 577.44\n",
      "INFO:tensorflow:loss = 6.8176785e-05, step = 20200 (0.175 sec)\n",
      "INFO:tensorflow:global_step/sec: 561.915\n",
      "INFO:tensorflow:loss = 8.688853e-05, step = 20300 (0.176 sec)\n",
      "INFO:tensorflow:global_step/sec: 567.52\n",
      "INFO:tensorflow:loss = 5.854276e-05, step = 20400 (0.176 sec)\n",
      "INFO:tensorflow:global_step/sec: 549.313\n",
      "INFO:tensorflow:loss = 4.743015e-05, step = 20500 (0.182 sec)\n",
      "INFO:tensorflow:global_step/sec: 505.692\n",
      "INFO:tensorflow:loss = 9.217932e-05, step = 20600 (0.198 sec)\n",
      "INFO:tensorflow:global_step/sec: 566.868\n",
      "INFO:tensorflow:loss = 6.7075336e-05, step = 20700 (0.176 sec)\n",
      "INFO:tensorflow:global_step/sec: 577.87\n",
      "INFO:tensorflow:loss = 5.1523093e-05, step = 20800 (0.173 sec)\n",
      "INFO:tensorflow:global_step/sec: 572.768\n",
      "INFO:tensorflow:loss = 5.0998813e-05, step = 20900 (0.175 sec)\n",
      "INFO:tensorflow:global_step/sec: 554.234\n",
      "INFO:tensorflow:loss = 4.8113536e-05, step = 21000 (0.180 sec)\n",
      "INFO:tensorflow:global_step/sec: 522.14\n",
      "INFO:tensorflow:loss = 2.6393169e-05, step = 21100 (0.192 sec)\n",
      "INFO:tensorflow:global_step/sec: 551.592\n",
      "INFO:tensorflow:loss = 6.7964866e-05, step = 21200 (0.181 sec)\n",
      "INFO:tensorflow:global_step/sec: 572.648\n",
      "INFO:tensorflow:loss = 4.102109e-05, step = 21300 (0.175 sec)\n",
      "INFO:tensorflow:global_step/sec: 579.037\n",
      "INFO:tensorflow:loss = 7.61621e-05, step = 21400 (0.173 sec)\n",
      "INFO:tensorflow:global_step/sec: 553.029\n",
      "INFO:tensorflow:loss = 2.9388999e-05, step = 21500 (0.181 sec)\n",
      "INFO:tensorflow:global_step/sec: 573.801\n",
      "INFO:tensorflow:loss = 0.00012251407, step = 21600 (0.175 sec)\n",
      "INFO:tensorflow:global_step/sec: 477.755\n",
      "INFO:tensorflow:loss = 3.391465e-05, step = 21700 (0.209 sec)\n",
      "INFO:tensorflow:global_step/sec: 564.676\n",
      "INFO:tensorflow:loss = 5.2392177e-05, step = 21800 (0.177 sec)\n",
      "INFO:tensorflow:global_step/sec: 587.805\n",
      "INFO:tensorflow:loss = 6.421012e-05, step = 21900 (0.170 sec)\n",
      "INFO:tensorflow:global_step/sec: 574.979\n",
      "INFO:tensorflow:loss = 5.9110615e-05, step = 22000 (0.174 sec)\n",
      "INFO:tensorflow:global_step/sec: 584.599\n",
      "INFO:tensorflow:loss = 8.4213876e-05, step = 22100 (0.171 sec)\n",
      "INFO:tensorflow:global_step/sec: 518.581\n",
      "INFO:tensorflow:loss = 5.6288653e-05, step = 22200 (0.194 sec)\n",
      "INFO:tensorflow:global_step/sec: 262.256\n",
      "INFO:tensorflow:loss = 6.7598114e-05, step = 22300 (0.381 sec)\n",
      "INFO:tensorflow:global_step/sec: 377.707\n",
      "INFO:tensorflow:loss = 4.8962786e-05, step = 22400 (0.263 sec)\n",
      "INFO:tensorflow:global_step/sec: 566.935\n",
      "INFO:tensorflow:loss = 8.651254e-05, step = 22500 (0.176 sec)\n",
      "INFO:tensorflow:global_step/sec: 559.534\n",
      "INFO:tensorflow:loss = 9.755864e-05, step = 22600 (0.179 sec)\n",
      "INFO:tensorflow:global_step/sec: 457.898\n",
      "INFO:tensorflow:loss = 7.393073e-05, step = 22700 (0.219 sec)\n",
      "INFO:tensorflow:global_step/sec: 453.045\n",
      "INFO:tensorflow:loss = 7.042662e-05, step = 22800 (0.220 sec)\n",
      "INFO:tensorflow:global_step/sec: 535.451\n",
      "INFO:tensorflow:loss = 6.5316206e-05, step = 22900 (0.187 sec)\n",
      "INFO:tensorflow:global_step/sec: 572.024\n",
      "INFO:tensorflow:loss = 2.9828148e-05, step = 23000 (0.175 sec)\n",
      "INFO:tensorflow:global_step/sec: 548.708\n",
      "INFO:tensorflow:loss = 3.2148204e-05, step = 23100 (0.183 sec)\n",
      "INFO:tensorflow:global_step/sec: 580.93\n",
      "INFO:tensorflow:loss = 8.248744e-05, step = 23200 (0.172 sec)\n",
      "INFO:tensorflow:global_step/sec: 592.872\n",
      "INFO:tensorflow:loss = 3.884689e-05, step = 23300 (0.169 sec)\n",
      "INFO:tensorflow:global_step/sec: 575.305\n",
      "INFO:tensorflow:loss = 3.7277237e-05, step = 23400 (0.173 sec)\n",
      "INFO:tensorflow:global_step/sec: 560.679\n",
      "INFO:tensorflow:loss = 4.4381664e-05, step = 23500 (0.179 sec)\n",
      "INFO:tensorflow:global_step/sec: 568.344\n",
      "INFO:tensorflow:loss = 5.546119e-05, step = 23600 (0.176 sec)\n",
      "INFO:tensorflow:global_step/sec: 441.036\n",
      "INFO:tensorflow:loss = 6.6034205e-05, step = 23700 (0.231 sec)\n",
      "INFO:tensorflow:global_step/sec: 301.848\n",
      "INFO:tensorflow:loss = 5.1598465e-05, step = 23800 (0.326 sec)\n",
      "INFO:tensorflow:global_step/sec: 590.264\n",
      "INFO:tensorflow:loss = 6.309693e-05, step = 23900 (0.170 sec)\n",
      "INFO:tensorflow:global_step/sec: 562.027\n",
      "INFO:tensorflow:loss = 5.9574133e-05, step = 24000 (0.178 sec)\n",
      "INFO:tensorflow:global_step/sec: 585.403\n",
      "INFO:tensorflow:loss = 4.38454e-05, step = 24100 (0.171 sec)\n",
      "INFO:tensorflow:global_step/sec: 527.592\n",
      "INFO:tensorflow:loss = 6.185849e-05, step = 24200 (0.190 sec)\n",
      "INFO:tensorflow:global_step/sec: 550.247\n",
      "INFO:tensorflow:loss = 2.4272806e-05, step = 24300 (0.182 sec)\n",
      "INFO:tensorflow:global_step/sec: 571.036\n",
      "INFO:tensorflow:loss = 9.095941e-05, step = 24400 (0.175 sec)\n",
      "INFO:tensorflow:global_step/sec: 320.142\n",
      "INFO:tensorflow:loss = 6.711101e-05, step = 24500 (0.315 sec)\n",
      "INFO:tensorflow:global_step/sec: 426.5\n",
      "INFO:tensorflow:loss = 3.8799786e-05, step = 24600 (0.232 sec)\n",
      "INFO:tensorflow:global_step/sec: 533.196\n",
      "INFO:tensorflow:loss = 8.014755e-05, step = 24700 (0.187 sec)\n",
      "INFO:tensorflow:global_step/sec: 552.907\n",
      "INFO:tensorflow:loss = 4.328184e-05, step = 24800 (0.181 sec)\n",
      "INFO:tensorflow:global_step/sec: 551.795\n",
      "INFO:tensorflow:loss = 6.336024e-05, step = 24900 (0.181 sec)\n",
      "INFO:tensorflow:global_step/sec: 565.187\n",
      "INFO:tensorflow:loss = 6.4244196e-05, step = 25000 (0.177 sec)\n",
      "INFO:tensorflow:global_step/sec: 556.919\n",
      "INFO:tensorflow:loss = 4.0388288e-05, step = 25100 (0.179 sec)\n",
      "INFO:tensorflow:global_step/sec: 387.7\n",
      "INFO:tensorflow:loss = 4.2854623e-05, step = 25200 (0.260 sec)\n",
      "INFO:tensorflow:global_step/sec: 352.779\n",
      "INFO:tensorflow:loss = 1.46620105e-05, step = 25300 (0.283 sec)\n",
      "INFO:tensorflow:global_step/sec: 549.351\n",
      "INFO:tensorflow:loss = 4.5854962e-05, step = 25400 (0.182 sec)\n",
      "INFO:tensorflow:global_step/sec: 570.38\n",
      "INFO:tensorflow:loss = 6.319212e-05, step = 25500 (0.175 sec)\n",
      "INFO:tensorflow:global_step/sec: 553.398\n",
      "INFO:tensorflow:loss = 7.94968e-05, step = 25600 (0.181 sec)\n",
      "INFO:tensorflow:global_step/sec: 513.999\n",
      "INFO:tensorflow:loss = 2.2404764e-05, step = 25700 (0.195 sec)\n",
      "INFO:tensorflow:global_step/sec: 532.162\n",
      "INFO:tensorflow:loss = 5.8221816e-05, step = 25800 (0.188 sec)\n"
     ]
    },
    {
     "name": "stdout",
     "output_type": "stream",
     "text": [
      "INFO:tensorflow:global_step/sec: 564.509\n",
      "INFO:tensorflow:loss = 6.3590865e-05, step = 25900 (0.178 sec)\n",
      "INFO:tensorflow:global_step/sec: 585.782\n",
      "INFO:tensorflow:loss = 4.948205e-05, step = 26000 (0.170 sec)\n",
      "INFO:tensorflow:global_step/sec: 575.107\n",
      "INFO:tensorflow:loss = 4.897676e-05, step = 26100 (0.174 sec)\n",
      "INFO:tensorflow:global_step/sec: 535.837\n",
      "INFO:tensorflow:loss = 4.2353993e-05, step = 26200 (0.187 sec)\n",
      "INFO:tensorflow:global_step/sec: 577.611\n",
      "INFO:tensorflow:loss = 4.1285602e-05, step = 26300 (0.173 sec)\n",
      "INFO:tensorflow:global_step/sec: 546.647\n",
      "INFO:tensorflow:loss = 5.422444e-05, step = 26400 (0.183 sec)\n",
      "INFO:tensorflow:global_step/sec: 578.025\n",
      "INFO:tensorflow:loss = 3.0054436e-05, step = 26500 (0.173 sec)\n",
      "INFO:tensorflow:global_step/sec: 572.056\n",
      "INFO:tensorflow:loss = 3.576442e-05, step = 26600 (0.175 sec)\n",
      "INFO:tensorflow:global_step/sec: 485.116\n",
      "INFO:tensorflow:loss = 7.0971255e-05, step = 26700 (0.206 sec)\n",
      "INFO:tensorflow:global_step/sec: 565.74\n",
      "INFO:tensorflow:loss = 1.25498245e-05, step = 26800 (0.176 sec)\n",
      "INFO:tensorflow:global_step/sec: 569.72\n",
      "INFO:tensorflow:loss = 3.2954926e-05, step = 26900 (0.175 sec)\n",
      "INFO:tensorflow:global_step/sec: 558.276\n",
      "INFO:tensorflow:loss = 4.8201597e-05, step = 27000 (0.179 sec)\n",
      "INFO:tensorflow:global_step/sec: 535.826\n",
      "INFO:tensorflow:loss = 4.724897e-05, step = 27100 (0.187 sec)\n",
      "INFO:tensorflow:global_step/sec: 538.035\n",
      "INFO:tensorflow:loss = 1.9132485e-05, step = 27200 (0.186 sec)\n",
      "INFO:tensorflow:global_step/sec: 529.377\n",
      "INFO:tensorflow:loss = 4.7531958e-05, step = 27300 (0.189 sec)\n",
      "INFO:tensorflow:global_step/sec: 552.632\n",
      "INFO:tensorflow:loss = 1.8609317e-05, step = 27400 (0.181 sec)\n",
      "INFO:tensorflow:global_step/sec: 589.29\n",
      "INFO:tensorflow:loss = 6.208844e-05, step = 27500 (0.170 sec)\n",
      "INFO:tensorflow:global_step/sec: 535.62\n",
      "INFO:tensorflow:loss = 2.2387962e-05, step = 27600 (0.187 sec)\n",
      "INFO:tensorflow:global_step/sec: 554.814\n",
      "INFO:tensorflow:loss = 3.510194e-05, step = 27700 (0.180 sec)\n",
      "INFO:tensorflow:global_step/sec: 556.557\n",
      "INFO:tensorflow:loss = 1.3848683e-05, step = 27800 (0.180 sec)\n",
      "INFO:tensorflow:global_step/sec: 554.812\n",
      "INFO:tensorflow:loss = 5.759553e-05, step = 27900 (0.180 sec)\n",
      "INFO:tensorflow:global_step/sec: 573.346\n",
      "INFO:tensorflow:loss = 5.064519e-05, step = 28000 (0.174 sec)\n",
      "INFO:tensorflow:global_step/sec: 526.293\n",
      "INFO:tensorflow:loss = 4.784244e-05, step = 28100 (0.190 sec)\n",
      "INFO:tensorflow:global_step/sec: 572.507\n",
      "INFO:tensorflow:loss = 4.65429e-05, step = 28200 (0.175 sec)\n",
      "INFO:tensorflow:global_step/sec: 542.84\n",
      "INFO:tensorflow:loss = 3.616943e-05, step = 28300 (0.184 sec)\n",
      "INFO:tensorflow:global_step/sec: 398.176\n",
      "INFO:tensorflow:loss = 5.6501874e-05, step = 28400 (0.252 sec)\n",
      "INFO:tensorflow:global_step/sec: 337.498\n",
      "INFO:tensorflow:loss = 9.853233e-05, step = 28500 (0.296 sec)\n",
      "INFO:tensorflow:global_step/sec: 516.169\n",
      "INFO:tensorflow:loss = 5.286879e-05, step = 28600 (0.193 sec)\n",
      "INFO:tensorflow:global_step/sec: 576.65\n",
      "INFO:tensorflow:loss = 6.375352e-05, step = 28700 (0.173 sec)\n",
      "INFO:tensorflow:global_step/sec: 460.232\n",
      "INFO:tensorflow:loss = 9.9362e-05, step = 28800 (0.218 sec)\n",
      "INFO:tensorflow:global_step/sec: 463.96\n",
      "INFO:tensorflow:loss = 3.5232635e-05, step = 28900 (0.215 sec)\n",
      "INFO:tensorflow:global_step/sec: 532.81\n",
      "INFO:tensorflow:loss = 2.7317703e-05, step = 29000 (0.187 sec)\n",
      "INFO:tensorflow:global_step/sec: 549.229\n",
      "INFO:tensorflow:loss = 6.084362e-05, step = 29100 (0.182 sec)\n",
      "INFO:tensorflow:global_step/sec: 578.413\n",
      "INFO:tensorflow:loss = 3.2247663e-05, step = 29200 (0.173 sec)\n",
      "INFO:tensorflow:global_step/sec: 536.028\n",
      "INFO:tensorflow:loss = 4.851347e-05, step = 29300 (0.187 sec)\n",
      "INFO:tensorflow:global_step/sec: 562.44\n",
      "INFO:tensorflow:loss = 5.0415416e-05, step = 29400 (0.177 sec)\n",
      "INFO:tensorflow:global_step/sec: 535.87\n",
      "INFO:tensorflow:loss = 2.1789661e-05, step = 29500 (0.187 sec)\n",
      "INFO:tensorflow:global_step/sec: 471.522\n",
      "INFO:tensorflow:loss = 4.5725523e-05, step = 29600 (0.212 sec)\n",
      "INFO:tensorflow:global_step/sec: 561.441\n",
      "INFO:tensorflow:loss = 4.247976e-05, step = 29700 (0.178 sec)\n",
      "INFO:tensorflow:global_step/sec: 581.617\n",
      "INFO:tensorflow:loss = 4.501049e-05, step = 29800 (0.172 sec)\n",
      "INFO:tensorflow:global_step/sec: 546.589\n",
      "INFO:tensorflow:loss = 1.9489577e-05, step = 29900 (0.183 sec)\n",
      "INFO:tensorflow:global_step/sec: 550.249\n",
      "INFO:tensorflow:loss = 4.3096737e-05, step = 30000 (0.181 sec)\n",
      "INFO:tensorflow:global_step/sec: 595.006\n",
      "INFO:tensorflow:loss = 3.2697044e-05, step = 30100 (0.168 sec)\n",
      "INFO:tensorflow:global_step/sec: 564.395\n",
      "INFO:tensorflow:loss = 5.2366424e-05, step = 30200 (0.177 sec)\n",
      "INFO:tensorflow:global_step/sec: 581.024\n",
      "INFO:tensorflow:loss = 3.295552e-05, step = 30300 (0.172 sec)\n",
      "INFO:tensorflow:global_step/sec: 574.817\n",
      "INFO:tensorflow:loss = 8.205383e-05, step = 30400 (0.174 sec)\n",
      "INFO:tensorflow:global_step/sec: 560.675\n",
      "INFO:tensorflow:loss = 4.7305683e-05, step = 30500 (0.178 sec)\n",
      "INFO:tensorflow:global_step/sec: 541.294\n",
      "INFO:tensorflow:loss = 4.8589194e-05, step = 30600 (0.185 sec)\n",
      "INFO:tensorflow:global_step/sec: 533.083\n",
      "INFO:tensorflow:loss = 5.445131e-05, step = 30700 (0.188 sec)\n",
      "INFO:tensorflow:global_step/sec: 560.742\n",
      "INFO:tensorflow:loss = 4.5366658e-05, step = 30800 (0.178 sec)\n",
      "INFO:tensorflow:global_step/sec: 537.055\n",
      "INFO:tensorflow:loss = 4.5185116e-05, step = 30900 (0.186 sec)\n",
      "INFO:tensorflow:global_step/sec: 551.068\n",
      "INFO:tensorflow:loss = 4.4561923e-05, step = 31000 (0.182 sec)\n",
      "INFO:tensorflow:global_step/sec: 568.383\n",
      "INFO:tensorflow:loss = 2.9137162e-05, step = 31100 (0.176 sec)\n",
      "INFO:tensorflow:global_step/sec: 585.78\n",
      "INFO:tensorflow:loss = 6.056574e-05, step = 31200 (0.171 sec)\n",
      "INFO:tensorflow:global_step/sec: 575.039\n",
      "INFO:tensorflow:loss = 4.078419e-05, step = 31300 (0.174 sec)\n",
      "INFO:tensorflow:global_step/sec: 559.205\n",
      "INFO:tensorflow:loss = 2.4299334e-05, step = 31400 (0.179 sec)\n",
      "INFO:tensorflow:global_step/sec: 561.127\n",
      "INFO:tensorflow:loss = 4.3646636e-05, step = 31500 (0.178 sec)\n",
      "INFO:tensorflow:global_step/sec: 289.244\n",
      "INFO:tensorflow:loss = 7.694072e-05, step = 31600 (0.347 sec)\n",
      "INFO:tensorflow:global_step/sec: 298.002\n",
      "INFO:tensorflow:loss = 4.930827e-05, step = 31700 (0.334 sec)\n",
      "INFO:tensorflow:global_step/sec: 577.711\n",
      "INFO:tensorflow:loss = 4.813443e-05, step = 31800 (0.173 sec)\n",
      "INFO:tensorflow:global_step/sec: 567.957\n",
      "INFO:tensorflow:loss = 3.1726457e-05, step = 31900 (0.177 sec)\n",
      "INFO:tensorflow:global_step/sec: 480.912\n",
      "INFO:tensorflow:loss = 3.953187e-05, step = 32000 (0.207 sec)\n",
      "INFO:tensorflow:global_step/sec: 557.001\n",
      "INFO:tensorflow:loss = 3.5804216e-05, step = 32100 (0.179 sec)\n",
      "INFO:tensorflow:global_step/sec: 562.173\n",
      "INFO:tensorflow:loss = 3.68355e-05, step = 32200 (0.178 sec)\n",
      "INFO:tensorflow:global_step/sec: 555.444\n",
      "INFO:tensorflow:loss = 4.794963e-05, step = 32300 (0.179 sec)\n",
      "INFO:tensorflow:global_step/sec: 575.785\n",
      "INFO:tensorflow:loss = 4.743426e-05, step = 32400 (0.174 sec)\n",
      "INFO:tensorflow:global_step/sec: 527.964\n",
      "INFO:tensorflow:loss = 4.0719373e-05, step = 32500 (0.190 sec)\n",
      "INFO:tensorflow:global_step/sec: 527.82\n",
      "INFO:tensorflow:loss = 5.3924174e-05, step = 32600 (0.189 sec)\n",
      "INFO:tensorflow:global_step/sec: 575.782\n",
      "INFO:tensorflow:loss = 2.7367687e-05, step = 32700 (0.174 sec)\n",
      "INFO:tensorflow:global_step/sec: 560.959\n",
      "INFO:tensorflow:loss = 2.1396892e-05, step = 32800 (0.178 sec)\n",
      "INFO:tensorflow:global_step/sec: 580.727\n",
      "INFO:tensorflow:loss = 2.8252569e-05, step = 32900 (0.172 sec)\n",
      "INFO:tensorflow:global_step/sec: 563.063\n",
      "INFO:tensorflow:loss = 4.2207623e-05, step = 33000 (0.178 sec)\n",
      "INFO:tensorflow:global_step/sec: 552.693\n",
      "INFO:tensorflow:loss = 6.737345e-05, step = 33100 (0.181 sec)\n",
      "INFO:tensorflow:global_step/sec: 569.519\n",
      "INFO:tensorflow:loss = 2.7645801e-05, step = 33200 (0.176 sec)\n",
      "INFO:tensorflow:global_step/sec: 554.406\n",
      "INFO:tensorflow:loss = 4.2853284e-05, step = 33300 (0.180 sec)\n",
      "INFO:tensorflow:global_step/sec: 563.233\n",
      "INFO:tensorflow:loss = 4.960761e-05, step = 33400 (0.177 sec)\n",
      "INFO:tensorflow:global_step/sec: 564.705\n",
      "INFO:tensorflow:loss = 3.2792017e-05, step = 33500 (0.177 sec)\n",
      "INFO:tensorflow:global_step/sec: 552.122\n",
      "INFO:tensorflow:loss = 2.0471587e-05, step = 33600 (0.182 sec)\n",
      "INFO:tensorflow:global_step/sec: 569.341\n",
      "INFO:tensorflow:loss = 5.1712053e-05, step = 33700 (0.176 sec)\n",
      "INFO:tensorflow:global_step/sec: 532.874\n"
     ]
    },
    {
     "name": "stdout",
     "output_type": "stream",
     "text": [
      "INFO:tensorflow:loss = 2.6027996e-05, step = 33800 (0.188 sec)\n",
      "INFO:tensorflow:global_step/sec: 551.909\n",
      "INFO:tensorflow:loss = 3.4155557e-05, step = 33900 (0.181 sec)\n",
      "INFO:tensorflow:global_step/sec: 536.924\n",
      "INFO:tensorflow:loss = 4.0612464e-05, step = 34000 (0.186 sec)\n",
      "INFO:tensorflow:global_step/sec: 551.12\n",
      "INFO:tensorflow:loss = 1.8749877e-05, step = 34100 (0.182 sec)\n",
      "INFO:tensorflow:global_step/sec: 518.875\n",
      "INFO:tensorflow:loss = 5.2686013e-05, step = 34200 (0.193 sec)\n",
      "INFO:tensorflow:global_step/sec: 176.489\n",
      "INFO:tensorflow:loss = 2.9732875e-05, step = 34300 (0.567 sec)\n",
      "INFO:tensorflow:global_step/sec: 568.543\n",
      "INFO:tensorflow:loss = 4.7785517e-05, step = 34400 (0.176 sec)\n",
      "INFO:tensorflow:global_step/sec: 389\n",
      "INFO:tensorflow:loss = 3.1628224e-05, step = 34500 (0.258 sec)\n",
      "INFO:tensorflow:global_step/sec: 314.889\n",
      "INFO:tensorflow:loss = 2.2802442e-05, step = 34600 (0.317 sec)\n",
      "INFO:tensorflow:global_step/sec: 474.765\n",
      "INFO:tensorflow:loss = 4.0271967e-05, step = 34700 (0.210 sec)\n",
      "INFO:tensorflow:global_step/sec: 573.323\n",
      "INFO:tensorflow:loss = 4.557024e-05, step = 34800 (0.175 sec)\n",
      "INFO:tensorflow:global_step/sec: 533.257\n",
      "INFO:tensorflow:loss = 2.3763845e-05, step = 34900 (0.187 sec)\n",
      "INFO:tensorflow:global_step/sec: 492.56\n",
      "INFO:tensorflow:loss = 3.604826e-05, step = 35000 (0.202 sec)\n",
      "INFO:tensorflow:global_step/sec: 547.356\n",
      "INFO:tensorflow:loss = 3.4055058e-05, step = 35100 (0.183 sec)\n",
      "INFO:tensorflow:global_step/sec: 542.041\n",
      "INFO:tensorflow:loss = 1.9456369e-05, step = 35200 (0.184 sec)\n",
      "INFO:tensorflow:global_step/sec: 563.803\n",
      "INFO:tensorflow:loss = 3.207523e-05, step = 35300 (0.177 sec)\n",
      "INFO:tensorflow:global_step/sec: 563.162\n",
      "INFO:tensorflow:loss = 4.204758e-05, step = 35400 (0.178 sec)\n",
      "INFO:tensorflow:global_step/sec: 556.635\n",
      "INFO:tensorflow:loss = 4.5222292e-05, step = 35500 (0.180 sec)\n",
      "INFO:tensorflow:global_step/sec: 547.254\n",
      "INFO:tensorflow:loss = 3.965904e-05, step = 35600 (0.183 sec)\n",
      "INFO:tensorflow:global_step/sec: 545.758\n",
      "INFO:tensorflow:loss = 1.28306565e-05, step = 35700 (0.183 sec)\n",
      "INFO:tensorflow:global_step/sec: 560.971\n",
      "INFO:tensorflow:loss = 4.2614018e-05, step = 35800 (0.179 sec)\n",
      "INFO:tensorflow:global_step/sec: 558.297\n",
      "INFO:tensorflow:loss = 4.352759e-05, step = 35900 (0.179 sec)\n",
      "INFO:tensorflow:global_step/sec: 522.224\n",
      "INFO:tensorflow:loss = 2.7492857e-05, step = 36000 (0.191 sec)\n",
      "INFO:tensorflow:global_step/sec: 559.739\n",
      "INFO:tensorflow:loss = 2.4453859e-05, step = 36100 (0.179 sec)\n",
      "INFO:tensorflow:global_step/sec: 580.607\n",
      "INFO:tensorflow:loss = 2.3597064e-05, step = 36200 (0.172 sec)\n",
      "INFO:tensorflow:global_step/sec: 555.78\n",
      "INFO:tensorflow:loss = 2.7611388e-05, step = 36300 (0.180 sec)\n",
      "INFO:tensorflow:global_step/sec: 583.282\n",
      "INFO:tensorflow:loss = 2.6330277e-05, step = 36400 (0.171 sec)\n",
      "INFO:tensorflow:global_step/sec: 587.478\n",
      "INFO:tensorflow:loss = 4.666577e-05, step = 36500 (0.171 sec)\n",
      "INFO:tensorflow:global_step/sec: 491.514\n",
      "INFO:tensorflow:loss = 3.0674975e-05, step = 36600 (0.203 sec)\n",
      "INFO:tensorflow:global_step/sec: 554.871\n",
      "INFO:tensorflow:loss = 3.5492347e-05, step = 36700 (0.180 sec)\n",
      "INFO:tensorflow:global_step/sec: 583.603\n",
      "INFO:tensorflow:loss = 3.7031805e-05, step = 36800 (0.171 sec)\n",
      "INFO:tensorflow:global_step/sec: 575.226\n",
      "INFO:tensorflow:loss = 3.609399e-05, step = 36900 (0.174 sec)\n",
      "INFO:tensorflow:global_step/sec: 581.572\n",
      "INFO:tensorflow:loss = 5.6691933e-05, step = 37000 (0.172 sec)\n",
      "INFO:tensorflow:global_step/sec: 498.19\n",
      "INFO:tensorflow:loss = 5.1661944e-05, step = 37100 (0.201 sec)\n",
      "INFO:tensorflow:global_step/sec: 561.271\n",
      "INFO:tensorflow:loss = 2.8062072e-05, step = 37200 (0.178 sec)\n",
      "INFO:tensorflow:global_step/sec: 559.658\n",
      "INFO:tensorflow:loss = 4.0924017e-05, step = 37300 (0.179 sec)\n",
      "INFO:tensorflow:global_step/sec: 568.371\n",
      "INFO:tensorflow:loss = 9.331028e-06, step = 37400 (0.176 sec)\n",
      "INFO:tensorflow:global_step/sec: 568.486\n",
      "INFO:tensorflow:loss = 1.847183e-05, step = 37500 (0.176 sec)\n",
      "INFO:tensorflow:global_step/sec: 573.69\n",
      "INFO:tensorflow:loss = 8.046691e-05, step = 37600 (0.174 sec)\n",
      "INFO:tensorflow:global_step/sec: 348.485\n",
      "INFO:tensorflow:loss = 3.5461955e-05, step = 37700 (0.288 sec)\n",
      "INFO:tensorflow:global_step/sec: 306.907\n",
      "INFO:tensorflow:loss = 2.3875646e-05, step = 37800 (0.326 sec)\n",
      "INFO:tensorflow:global_step/sec: 503.426\n",
      "INFO:tensorflow:loss = 3.6844423e-05, step = 37900 (0.198 sec)\n",
      "INFO:tensorflow:global_step/sec: 550.447\n",
      "INFO:tensorflow:loss = 5.322098e-05, step = 38000 (0.181 sec)\n",
      "INFO:tensorflow:global_step/sec: 543.447\n",
      "INFO:tensorflow:loss = 6.117023e-05, step = 38100 (0.184 sec)\n",
      "INFO:tensorflow:global_step/sec: 541.271\n",
      "INFO:tensorflow:loss = 2.4879924e-05, step = 38200 (0.185 sec)\n",
      "INFO:tensorflow:global_step/sec: 511.129\n",
      "INFO:tensorflow:loss = 3.2014865e-05, step = 38300 (0.196 sec)\n",
      "INFO:tensorflow:global_step/sec: 508.365\n",
      "INFO:tensorflow:loss = 2.7502298e-05, step = 38400 (0.196 sec)\n",
      "INFO:tensorflow:global_step/sec: 525.229\n",
      "INFO:tensorflow:loss = 2.6257221e-05, step = 38500 (0.190 sec)\n",
      "INFO:tensorflow:global_step/sec: 515.754\n",
      "INFO:tensorflow:loss = 2.9421219e-05, step = 38600 (0.194 sec)\n",
      "INFO:tensorflow:global_step/sec: 521.538\n",
      "INFO:tensorflow:loss = 1.9353442e-05, step = 38700 (0.192 sec)\n",
      "INFO:tensorflow:global_step/sec: 533.762\n",
      "INFO:tensorflow:loss = 2.0759448e-05, step = 38800 (0.187 sec)\n",
      "INFO:tensorflow:global_step/sec: 552.536\n",
      "INFO:tensorflow:loss = 4.4786902e-05, step = 38900 (0.182 sec)\n",
      "INFO:tensorflow:global_step/sec: 539.338\n",
      "INFO:tensorflow:loss = 3.8762824e-05, step = 39000 (0.186 sec)\n",
      "INFO:tensorflow:global_step/sec: 538.987\n",
      "INFO:tensorflow:loss = 2.5665871e-05, step = 39100 (0.184 sec)\n",
      "INFO:tensorflow:global_step/sec: 381.865\n",
      "INFO:tensorflow:loss = 1.571544e-05, step = 39200 (0.262 sec)\n",
      "INFO:tensorflow:global_step/sec: 531.144\n",
      "INFO:tensorflow:loss = 3.0625124e-05, step = 39300 (0.189 sec)\n",
      "INFO:tensorflow:global_step/sec: 529.488\n",
      "INFO:tensorflow:loss = 3.1089752e-05, step = 39400 (0.189 sec)\n",
      "INFO:tensorflow:global_step/sec: 502.568\n",
      "INFO:tensorflow:loss = 3.9282462e-05, step = 39500 (0.199 sec)\n",
      "INFO:tensorflow:global_step/sec: 488.41\n",
      "INFO:tensorflow:loss = 1.3808511e-05, step = 39600 (0.205 sec)\n",
      "INFO:tensorflow:global_step/sec: 513.03\n",
      "INFO:tensorflow:loss = 1.8414139e-05, step = 39700 (0.195 sec)\n",
      "INFO:tensorflow:global_step/sec: 549.915\n",
      "INFO:tensorflow:loss = 3.2130516e-05, step = 39800 (0.182 sec)\n",
      "INFO:tensorflow:global_step/sec: 539.997\n",
      "INFO:tensorflow:loss = 2.2472945e-05, step = 39900 (0.186 sec)\n",
      "INFO:tensorflow:Saving checkpoints for 40000 into /tmp/tmpiwludibt/model.ckpt.\n",
      "INFO:tensorflow:Loss for final step: 1.18203325e-05.\n"
     ]
    },
    {
     "data": {
      "text/plain": [
       "SKCompat()"
      ]
     },
     "execution_count": 62,
     "metadata": {},
     "output_type": "execute_result"
    }
   ],
   "source": [
    "feature_columns = tf.contrib.learn.infer_real_valued_columns_from_input(X_train)\n",
    "dnn_clf = tf.contrib.learn.DNNClassifier(\n",
    "    hidden_units=(300, 100),\n",
    "    n_classes=10,\n",
    "    feature_columns=feature_columns\n",
    ")\n",
    "dnn_clf = tf.contrib.learn.SKCompat(dnn_clf)\n",
    "dnn_clf.fit(X_train, y_train, batch_size=50, steps=40000)"
   ]
  },
  {
   "cell_type": "code",
   "execution_count": 83,
   "metadata": {},
   "outputs": [],
   "source": [
    "def shuffle_batch(X, y, batch_size):\n",
    "    rnd_idx = np.random.permutation(len(X))\n",
    "    n_batches = len(X) // batch_size\n",
    "    for batch_idx in np.array_split(rnd_idx, n_batches):\n",
    "        X_batch, y_batch = X[batch_idx], y[batch_idx]\n",
    "    return X_batch, y_batch"
   ]
  },
  {
   "cell_type": "code",
   "execution_count": 63,
   "metadata": {},
   "outputs": [],
   "source": [
    "from sklearn.metrics import accuracy_score"
   ]
  },
  {
   "cell_type": "code",
   "execution_count": 64,
   "metadata": {},
   "outputs": [
    {
     "name": "stdout",
     "output_type": "stream",
     "text": [
      "WARNING:tensorflow:float64 is not supported by many models, consider casting to float32.\n",
      "INFO:tensorflow:Graph was finalized.\n",
      "INFO:tensorflow:Restoring parameters from /tmp/tmpiwludibt/model.ckpt-40000\n",
      "INFO:tensorflow:Running local_init_op.\n",
      "INFO:tensorflow:Done running local_init_op.\n"
     ]
    }
   ],
   "source": [
    "y_pred = dnn_clf.predict(X_test)"
   ]
  },
  {
   "cell_type": "code",
   "execution_count": 65,
   "metadata": {},
   "outputs": [
    {
     "data": {
      "text/plain": [
       "0.9844444444444445"
      ]
     },
     "execution_count": 65,
     "metadata": {},
     "output_type": "execute_result"
    }
   ],
   "source": [
    "accuracy_score(y_test, y_pred['classes'])"
   ]
  },
  {
   "cell_type": "code",
   "execution_count": 67,
   "metadata": {},
   "outputs": [],
   "source": [
    "n_inputs = 28 * 28\n",
    "n_hidden1 = 300\n",
    "n_hidden2 = 100\n",
    "n_outputs = 10"
   ]
  },
  {
   "cell_type": "code",
   "execution_count": 68,
   "metadata": {},
   "outputs": [],
   "source": [
    "X = tf.placeholder(tf.float32, shape=(None, n_inputs), name='X')\n",
    "y = tf.placeholder(tf.int64, shape=(None, ), name='y')"
   ]
  },
  {
   "cell_type": "code",
   "execution_count": 69,
   "metadata": {},
   "outputs": [],
   "source": [
    "def neuron_layer(X, n_neurons, name, activation=None):\n",
    "    with tf.name_scope(name):\n",
    "        n_inputs = int(X.get_shape()[1])\n",
    "        stddev = 2 / np.sqrt(n_inputs)\n",
    "        init = tf.truncated_normal((n_inputs, n_neurons), stddev=stddev)\n",
    "        W = tf.Variable(init, name='kernel')\n",
    "        b = tf.Variable(tf.zeros([n_neurons]), name='bias')\n",
    "        Z = tf.matmul(X, W) + b\n",
    "        if activation:\n",
    "            return activation(Z)\n",
    "        else:\n",
    "            return Z"
   ]
  },
  {
   "cell_type": "code",
   "execution_count": 76,
   "metadata": {},
   "outputs": [],
   "source": [
    "with tf.name_scope('dnn'):\n",
    "    hidden1 = neuron_layer(X, n_hidden1, name='hidden1', activation=tf.nn.relu)\n",
    "    hidden2 = neuron_layer(hidden1, n_hidden2, name='hidden2', activation=tf.nn.relu)\n",
    "    logits = neuron_layer(hidden2, n_outputs, name='outputs')"
   ]
  },
  {
   "cell_type": "code",
   "execution_count": 79,
   "metadata": {},
   "outputs": [],
   "source": [
    "# with tf.name_scope('dnn1'):\n",
    "#     hidden11 = tf.layers.dense(X, n_hidden1, name='hidden11', activation=tf.nn.relu)\n",
    "#     hidden12 = tf.layers.dense(hidden1, n_hidden2, name='hidden12', activation=tf.nn.relu)\n",
    "#     logits1 = tf.layers.dense(hidden2, n_outputs, name='outputs1')"
   ]
  },
  {
   "cell_type": "code",
   "execution_count": 80,
   "metadata": {},
   "outputs": [],
   "source": [
    "with tf.name_scope('loss'):\n",
    "    xentropy = tf.nn.sparse_softmax_cross_entropy_with_logits(labels=y, logits=logits)\n",
    "    loss = tf.reduce_mean(xentropy, name='logits')"
   ]
  },
  {
   "cell_type": "code",
   "execution_count": 81,
   "metadata": {},
   "outputs": [],
   "source": [
    "learning_rate = 0.01"
   ]
  },
  {
   "cell_type": "code",
   "execution_count": 85,
   "metadata": {},
   "outputs": [],
   "source": [
    "with tf.name_scope('train'):\n",
    "    optimizer = tf.train.GradientDescentOptimizer(learning_rate)\n",
    "    training_op = optimizer.minimize(loss)"
   ]
  },
  {
   "cell_type": "code",
   "execution_count": 86,
   "metadata": {},
   "outputs": [],
   "source": [
    "with tf.name_scope('eval'):\n",
    "    correct = tf.nn.in_top_k(logits, y, 1)\n",
    "    accuracy = tf.reduce_mean(tf.cast(correct, tf.float32))"
   ]
  },
  {
   "cell_type": "code",
   "execution_count": 87,
   "metadata": {},
   "outputs": [],
   "source": [
    "init = tf.global_variables_initializer()\n",
    "saver = tf.train.Saver()"
   ]
  },
  {
   "cell_type": "code",
   "execution_count": 88,
   "metadata": {},
   "outputs": [
    {
     "name": "stdout",
     "output_type": "stream",
     "text": [
      "WARNING:tensorflow:From <ipython-input-88-8e0b655384b0>:2: read_data_sets (from tensorflow.contrib.learn.python.learn.datasets.mnist) is deprecated and will be removed in a future version.\n",
      "Instructions for updating:\n",
      "Please use alternatives such as official/mnist/dataset.py from tensorflow/models.\n",
      "WARNING:tensorflow:From /home/uldo/miniconda3/envs/DS-New/lib/python3.6/site-packages/tensorflow/contrib/learn/python/learn/datasets/mnist.py:260: maybe_download (from tensorflow.contrib.learn.python.learn.datasets.base) is deprecated and will be removed in a future version.\n",
      "Instructions for updating:\n",
      "Please write your own downloading logic.\n",
      "WARNING:tensorflow:From /home/uldo/miniconda3/envs/DS-New/lib/python3.6/site-packages/tensorflow/contrib/learn/python/learn/datasets/base.py:252: _internal_retry.<locals>.wrap.<locals>.wrapped_fn (from tensorflow.contrib.learn.python.learn.datasets.base) is deprecated and will be removed in a future version.\n",
      "Instructions for updating:\n",
      "Please use urllib or similar directly.\n",
      "Successfully downloaded train-images-idx3-ubyte.gz 9912422 bytes.\n",
      "WARNING:tensorflow:From /home/uldo/miniconda3/envs/DS-New/lib/python3.6/site-packages/tensorflow/contrib/learn/python/learn/datasets/mnist.py:262: extract_images (from tensorflow.contrib.learn.python.learn.datasets.mnist) is deprecated and will be removed in a future version.\n",
      "Instructions for updating:\n",
      "Please use tf.data to implement this functionality.\n",
      "Extracting /tmp/data/train-images-idx3-ubyte.gz\n",
      "Successfully downloaded train-labels-idx1-ubyte.gz 28881 bytes.\n",
      "WARNING:tensorflow:From /home/uldo/miniconda3/envs/DS-New/lib/python3.6/site-packages/tensorflow/contrib/learn/python/learn/datasets/mnist.py:267: extract_labels (from tensorflow.contrib.learn.python.learn.datasets.mnist) is deprecated and will be removed in a future version.\n",
      "Instructions for updating:\n",
      "Please use tf.data to implement this functionality.\n",
      "Extracting /tmp/data/train-labels-idx1-ubyte.gz\n",
      "Successfully downloaded t10k-images-idx3-ubyte.gz 1648877 bytes.\n",
      "Extracting /tmp/data/t10k-images-idx3-ubyte.gz\n",
      "Successfully downloaded t10k-labels-idx1-ubyte.gz 4542 bytes.\n",
      "Extracting /tmp/data/t10k-labels-idx1-ubyte.gz\n",
      "WARNING:tensorflow:From /home/uldo/miniconda3/envs/DS-New/lib/python3.6/site-packages/tensorflow/contrib/learn/python/learn/datasets/mnist.py:290: DataSet.__init__ (from tensorflow.contrib.learn.python.learn.datasets.mnist) is deprecated and will be removed in a future version.\n",
      "Instructions for updating:\n",
      "Please use alternatives such as official/mnist/dataset.py from tensorflow/models.\n"
     ]
    }
   ],
   "source": [
    "from tensorflow.examples.tutorials.mnist import input_data\n",
    "mnist = input_data.read_data_sets('/tmp/data')"
   ]
  },
  {
   "cell_type": "code",
   "execution_count": 90,
   "metadata": {},
   "outputs": [
    {
     "name": "stdout",
     "output_type": "stream",
     "text": [
      "/home/uldo/work/kaggle/competitions/APTOS-2019-Blindness-Detection/code/tf-py-torch-tutorials\r\n"
     ]
    }
   ],
   "source": [
    "!pwd"
   ]
  },
  {
   "cell_type": "code",
   "execution_count": 89,
   "metadata": {},
   "outputs": [],
   "source": [
    "n_epochs = 40\n",
    "batch_size = 50"
   ]
  },
  {
   "cell_type": "code",
   "execution_count": 93,
   "metadata": {},
   "outputs": [
    {
     "name": "stdout",
     "output_type": "stream",
     "text": [
      "0  Train accuracy:  0.94  Test accuracy:  0.9107\n",
      "1  Train accuracy:  0.92  Test accuracy:  0.9296\n",
      "2  Train accuracy:  0.94  Test accuracy:  0.9395\n",
      "3  Train accuracy:  0.88  Test accuracy:  0.9448\n",
      "4  Train accuracy:  0.94  Test accuracy:  0.949\n",
      "5  Train accuracy:  0.98  Test accuracy:  0.9506\n",
      "6  Train accuracy:  0.98  Test accuracy:  0.9558\n",
      "7  Train accuracy:  0.98  Test accuracy:  0.9594\n",
      "8  Train accuracy:  0.98  Test accuracy:  0.9618\n",
      "9  Train accuracy:  0.92  Test accuracy:  0.9616\n",
      "10  Train accuracy:  0.98  Test accuracy:  0.9645\n",
      "11  Train accuracy:  0.96  Test accuracy:  0.9664\n",
      "12  Train accuracy:  0.98  Test accuracy:  0.9677\n",
      "13  Train accuracy:  1.0  Test accuracy:  0.9684\n",
      "14  Train accuracy:  1.0  Test accuracy:  0.9688\n",
      "15  Train accuracy:  1.0  Test accuracy:  0.9699\n",
      "16  Train accuracy:  0.98  Test accuracy:  0.9704\n",
      "17  Train accuracy:  1.0  Test accuracy:  0.9695\n",
      "18  Train accuracy:  0.96  Test accuracy:  0.9711\n",
      "19  Train accuracy:  1.0  Test accuracy:  0.9724\n",
      "20  Train accuracy:  0.96  Test accuracy:  0.9725\n",
      "21  Train accuracy:  1.0  Test accuracy:  0.9742\n",
      "22  Train accuracy:  0.96  Test accuracy:  0.9739\n",
      "23  Train accuracy:  0.98  Test accuracy:  0.9743\n",
      "24  Train accuracy:  1.0  Test accuracy:  0.9745\n",
      "25  Train accuracy:  0.98  Test accuracy:  0.9749\n",
      "26  Train accuracy:  1.0  Test accuracy:  0.9751\n",
      "27  Train accuracy:  1.0  Test accuracy:  0.9761\n",
      "28  Train accuracy:  0.98  Test accuracy:  0.976\n",
      "29  Train accuracy:  1.0  Test accuracy:  0.9752\n",
      "30  Train accuracy:  0.98  Test accuracy:  0.9751\n",
      "31  Train accuracy:  1.0  Test accuracy:  0.9765\n",
      "32  Train accuracy:  1.0  Test accuracy:  0.9759\n",
      "33  Train accuracy:  1.0  Test accuracy:  0.9771\n",
      "34  Train accuracy:  1.0  Test accuracy:  0.9768\n",
      "35  Train accuracy:  1.0  Test accuracy:  0.9758\n",
      "36  Train accuracy:  0.98  Test accuracy:  0.9768\n",
      "37  Train accuracy:  1.0  Test accuracy:  0.9774\n",
      "38  Train accuracy:  1.0  Test accuracy:  0.9773\n",
      "39  Train accuracy:  1.0  Test accuracy:  0.9773\n"
     ]
    }
   ],
   "source": [
    "with tf.Session() as sess:\n",
    "    init.run()\n",
    "    for epoch in range(n_epochs):\n",
    "        for iteration in range(mnist.train.num_examples // batch_size):\n",
    "            X_batch, y_batch = mnist.train.next_batch(batch_size)\n",
    "            sess.run(training_op, feed_dict={X: X_batch, y: y_batch})\n",
    "        acc_train = accuracy.eval(feed_dict={X: X_batch, y: y_batch})\n",
    "        acc_test = accuracy.eval(feed_dict={X: mnist.test.images, y: mnist.test.labels})\n",
    "        print(epoch, \" Train accuracy: \", acc_train, \" Test accuracy: \", acc_test)\n",
    "    save_path = saver.save(sess, './my_model_final.cpkt')"
   ]
  },
  {
   "cell_type": "code",
   "execution_count": 94,
   "metadata": {},
   "outputs": [],
   "source": [
    "np.random.uniform?"
   ]
  },
  {
   "cell_type": "code",
   "execution_count": null,
   "metadata": {},
   "outputs": [],
   "source": []
  }
 ],
 "metadata": {
  "kernelspec": {
   "display_name": "Python 3",
   "language": "python",
   "name": "python3"
  },
  "language_info": {
   "codemirror_mode": {
    "name": "ipython",
    "version": 3
   },
   "file_extension": ".py",
   "mimetype": "text/x-python",
   "name": "python",
   "nbconvert_exporter": "python",
   "pygments_lexer": "ipython3",
   "version": "3.6.6"
  }
 },
 "nbformat": 4,
 "nbformat_minor": 2
}
